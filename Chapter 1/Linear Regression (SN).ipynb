{
 "cells": [
  {
   "cell_type": "markdown",
   "metadata": {},
   "source": [
    "# Linear Regression (Supervised Learning)"
   ]
  },
  {
   "cell_type": "markdown",
   "metadata": {},
   "source": [
    "<table border=\"1\" cellpadding=\"3\" id=\"printTable\">\n",
    "    <tbody> \n",
    "    <tr>\n",
    "        <th>Author</th>\n",
    "        <th>Email</th>\n",
    "        <th>Website</th>\n",
    "    </tr>\n",
    "    <tr>\n",
    "        <td>Siddartha Nath</td>\n",
    "        <td>\n",
    "            <a href=\"mailto:sidnath01@hotmail.com\">sidnath01@hotmail.com\n",
    "            </a>\n",
    "        </td>\n",
    "        <td>PolyNath</td>\n",
    "    </tr>\n",
    "    </tbody>\n",
    "</table>"
   ]
  },
  {
   "cell_type": "markdown",
   "metadata": {},
   "source": [
    "The purpose of this notebook is to demonstrate and explore properties of Linear Regression through computational Mathematics. "
   ]
  },
  {
   "cell_type": "markdown",
   "metadata": {},
   "source": [
    "## Library Packages"
   ]
  },
  {
   "cell_type": "markdown",
   "metadata": {},
   "source": [
    "As stated in the GitHub repository, <a href=\"https://github.com/siddarthanath/Data-Science-2021\">Data-Science-2021</a>, we will focus solely on \"from scratch\" implementations and thus will not be using in-built high-level packages such as statsmodels, scikit-learn etc... \n",
    "At the end, we will cross reference these implementations with in-built packages.\n",
    "<br>\n",
    "Even though practically this is not the most efficient, it will allow you to fully understand to how the background of these topic. \n",
    "\n",
    "We will discuss the how's of these tasks but not dive into the why's. If there is a demand for in-depth analysis into the Mathematics behind the code, then an online course will be created side-by-side the notebooks for this. "
   ]
  },
  {
   "cell_type": "code",
   "execution_count": 1,
   "metadata": {},
   "outputs": [],
   "source": [
    "# Used for manipulating data\n",
    "import pandas as pd\n",
    "# Scientific and vector computation for python\n",
    "import numpy as np\n",
    "# Plotting library\n",
    "import matplotlib.pyplot as plt \n",
    "# Load scikit-learn for late use (and also for datasets)\n",
    "import sklearn \n",
    "# Keep plots inline\n",
    "%matplotlib inline"
   ]
  },
  {
   "cell_type": "markdown",
   "metadata": {},
   "source": [
    "## Background"
   ]
  },
  {
   "cell_type": "markdown",
   "metadata": {},
   "source": [
    "In every dataset, we have a set of inputs and a corresponding output. We classify this input space by: $x^{i} \\in X$ and output space by: $y^{i} \\in Y$.\n",
    "\n",
    "- Typically, our datasets are not always numbers i.e. they could be names of places, companies or gender. Additionally, our outputs $y^{i}$ can be continuous or discrete/categorical i.e. a number, a group or Yes/No. \n",
    "- The linear regression problem is a supervised learning problem as we feed our machine training examples e.g. ($x^{i},y^{i}$), and then hope that the machines learns from the labelled data to create a model which can be then used to predict outcomes based on a given unknown datapoint $x^{i}$.  \n",
    "<br>\n",
    "\n",
    "**Note:** $(x^{i},y^{i})$ is not to be confused with power lower/indices. \n",
    "<br>\n",
    "\n",
    "In order to create our machine learning model, we first need to organise our dataset. There are two ways this can be done:\n",
    "- Matrix vector form (this is standard procedure as it reduces computational complexity and thus will be used for the remaining notebooks).\n",
    "- Non-matrix vector form.\n",
    "<br>\n",
    "\n",
    "Once the dataset is obtained, we either:\n",
    "- Split the dataset into training and test examples (typically 70:30 ratio); here the model will learn the data on the training examples and its' errors and accuracies will be predominantly noted by the test examples.\n",
    "- Split the dataset into training, validation and test examples (typically 50:30:20); here the model will learn the data on the training example and will be continually improved/tuned by testing it on the validation examples. Once this process is complete, the final model will be used on the test examples to examine its' performance. \n",
    "- Use the entire dataset to test on and then keep this model.\n",
    "\n",
    "For this notebook, we will go with the last option (as this is fastest however is probably less reliable). In this later notebooks we will see when/how to split the data and why this is necessary in some machine learning tasks."
   ]
  },
  {
   "cell_type": "markdown",
   "metadata": {},
   "source": [
    "## Mathematical Theory"
   ]
  },
  {
   "cell_type": "markdown",
   "metadata": {},
   "source": [
    "### 1."
   ]
  },
  {
   "cell_type": "markdown",
   "metadata": {},
   "source": [
    "For this topic, we are looking at linear regression. The reason this is called 'linear' regression is not because it is in the form $y = mx + c$ but because the $\\theta_{N}$ are linear combinations in $x$ i.e. $y = \\theta_{0} + \\theta_{1}x_{1} + \\theta_{2}x_{2}$ is linear but $y = \\theta_{0} + \\theta_{1}x_{1}^{\\theta_{2}}$ is not.\n",
    "\n",
    "In general, the data we have will look like:\n",
    "\n",
    "$$\\{x_{1}^{i}, x_{2}^{i}, \\dots, x_{p}^{i}, y^{i}\\}_{i=1}^N$$\n",
    "\n",
    "- $p$ = # of features in the dataset \n",
    "- $N$ = # of training inputs. "
   ]
  },
  {
   "cell_type": "markdown",
   "metadata": {},
   "source": [
    "### 2."
   ]
  },
  {
   "cell_type": "markdown",
   "metadata": {},
   "source": [
    "For every data point $x^{i}$, we will have a corresponding *observation value*. Conventionally, we write the following:\n",
    "\n",
    "\\begin{gather}\n",
    "    \\underline{\\boldsymbol y} = \n",
    "\\begin{bmatrix}\n",
    "  y^1 \\\\ y^2 \\\\ \\dots \\\\ y^N \n",
    "\\end{bmatrix}\n",
    "=\n",
    "\\begin{bmatrix}\n",
    "f(\\boldsymbol x^{1}, \\underline{\\boldsymbol \\theta}) \\\\ f(\\boldsymbol x^{2}, \\underline{\\boldsymbol \\theta}) \\\\ \\dots \\\\ f(\\boldsymbol x^{N}, \\underline{\\boldsymbol \\theta})\n",
    "\\end{bmatrix}\n",
    "\\in \\mathbb{R}^N\n",
    "\\qquad \\text{the outcome/target variable}\n",
    "\\end{gather}\n",
    "\n",
    "where,\n",
    "\n",
    "\\begin{gather}\n",
    "    \\underline{\\boldsymbol x^{i}} = \n",
    "\\begin{bmatrix} \n",
    "x^{i}_{1} \\\\ x^{i}_{2} \\\\ \\dots \\\\ x^{i}_{p}\n",
    "\\end{bmatrix}\n",
    "\\in \\mathbb{R}^p;\\ \\forall i \\in {1,...,N}\n",
    "\\qquad \\text{a feature of the dataset}\n",
    "\\end{gather}\n",
    "\n",
    "Since our aim is to construct a linear regression of $\\boldsymbol{y}$, we can write the observed datapoints as:\n",
    "\n",
    "$$y^{i} = f_{LR}(\\boldsymbol x^{i}, \\underline{\\boldsymbol{\\theta}})= \\theta_{0} + \\theta_{1}x_{1}^{i} \\dots \\theta_{p}x_{p}^{i}; \\ \\forall i= 1,...,N$$. \n",
    "\n",
    "**Note:** Python treats row vectors and column vectors the same in computation/dimensions (as they are $1D$ arrays). Hence, this notation is abitrary as we can easily just transpose the column vector and make it into a row vector and rewrite the definition of $\\boldsymbol x^{i}$ i.e. it is by choice how you lay this out but you must make sure to stay consistent in terms of dimension compatibility. \n",
    "\n",
    "Here, the only unknowns are the $\\underline{\\boldsymbol{\\theta}}$. Hence, our goal is to estimate $\\underline{\\boldsymbol{\\theta}}$ i.e. calculate the estimates $\\underline{\\boldsymbol{\\hat \\theta}}$, which we call our **parameters** of the dataset. "
   ]
  },
  {
   "cell_type": "markdown",
   "metadata": {},
   "source": [
    "### 3."
   ]
  },
  {
   "cell_type": "markdown",
   "metadata": {},
   "source": [
    "For every data point, we will also have a *predicted value*. Similarly, we write the following:\n",
    "\n",
    "\\begin{gather}\n",
    "    \\underline{\\hat{\\boldsymbol y}} = \n",
    "\\begin{bmatrix}\n",
    "  \\hat y^1 \\\\ \\hat y^2 \\\\ \\dots \\\\ \\hat y^N \n",
    "\\end{bmatrix}\n",
    "=\n",
    "\\begin{bmatrix}\n",
    "f(\\boldsymbol x^{1}, \\underline{\\boldsymbol{\\hat \\theta}}) \\\\ f(\\boldsymbol x^{2}, \\underline{\\boldsymbol{\\hat \\theta}}) \\\\ \\dots \\\\ f(\\boldsymbol x^{N}, \\underline{\\boldsymbol{\\hat \\theta}})\n",
    "\\end{bmatrix}\n",
    "\\in \\mathbb{R}^N\n",
    "\\qquad \\text{the predicted datapoints of $\\boldsymbol{y}$}\n",
    "\\end{gather}\n",
    "\n",
    "Since our aim is to construct a linear regression of $\\boldsymbol{y}$, we can write the predicted datapoints as:\n",
    "\n",
    "$$\\hat y^{i} = f_{LR}(\\boldsymbol x^{i}, \\underline{\\boldsymbol{\\hat\\theta}})= \\hat \\theta_{0} + \\hat \\theta_{1}x_{1}^{i} \\dots \\hat \\theta_{p}x_{p}^{i}; \\ \\forall i= 1,...,N$$. "
   ]
  },
  {
   "cell_type": "markdown",
   "metadata": {},
   "source": [
    "### 4."
   ]
  },
  {
   "cell_type": "markdown",
   "metadata": {},
   "source": [
    "Combining all the previous notations, we will write the associated model in the following matrix/vectorised manner:\n",
    "    \n",
    "\\begin{gather}\n",
    "    \\underline{\\boldsymbol{y}}\n",
    "    = \\boldsymbol{\\hat Y} =\n",
    "\\begin{bmatrix}\n",
    "y^{1} \\\\ \\ y^{2} \\\\ \\dots \\\\  y^{N}\n",
    "\\end{bmatrix}\n",
    "=\n",
    "\\begin{bmatrix}\n",
    "f(\\boldsymbol x^{1}, \\underline{\\boldsymbol{ \\theta}}) \\\\ f(\\boldsymbol x^{2}, \\underline{\\boldsymbol{\\theta}}) \\\\ \\dots \\\\ f(\\boldsymbol x^{N}, \\underline{\\boldsymbol{ \\theta}})\n",
    "\\end{bmatrix}\n",
    "=\n",
    "\\begin{bmatrix}\n",
    "\\theta_{0} + \\theta_{1}x_{1}^{1} \\dots \\theta_{p}x_{p}^{1} \\\\\n",
    "\\theta_{0} + \\theta_{1}x_{1}^{2} \\dots \\theta_{p}x_{p}^{2} \\\\ \\dots \\\\\n",
    "\\theta_{0} + \\theta_{1}x_{1}^{N} \\dots \\theta_{p}x_{p}^{N}\n",
    "\\end{bmatrix}\n",
    "=\n",
    "\\begin{bmatrix}\n",
    "1 & x_{1}^{1} & x_{2}^{1} & \\dots & x_{p}^{1} \\\\\n",
    "1 & x_{1}^{2} & x_{2}^{2} & \\dots & x_{p}^{2} \\\\\n",
    "\\dots  & \\dots  & \\dots  & \\dots & \\dots  \\\\\n",
    "1 & x_{1}^{N} & x_{2}^{N} & \\dots & x_{p}^{N} \n",
    "\\end{bmatrix}\n",
    "\\begin{bmatrix}\n",
    "\\theta_0 \\\\  \\theta_1 \\\\ \\dots \\\\  \\theta_p\n",
    "\\end{bmatrix}\n",
    "= \\boldsymbol X \\underline{\\boldsymbol{ \\theta}} \n",
    "\\end{gather}\n",
    "\n",
    "where:\n",
    "- $\\boldsymbol{X} \\in \\mathbb{R}^{N \\times (p+1)}$\n",
    "- $\\underline{\\boldsymbol{ \\theta}} \\in \\mathbb{R}^{p+1}$\n",
    "- $\\underline{\\boldsymbol{ y}} \\in \\mathbb{R}^{N}$\n",
    "\n",
    "**Implementation Note:** We store each example as a row in the the $X$ matrix. To take into account the intercept term ($\\hat \\theta_0$), we add an additional first column to $X$ and set it to all ones. This allows us to treat $\\hat \\theta_0$ as simply another 'feature'."
   ]
  },
  {
   "cell_type": "markdown",
   "metadata": {},
   "source": [
    "### 5."
   ]
  },
  {
   "cell_type": "markdown",
   "metadata": {},
   "source": [
    "Mathematically speaking, our estimated parameters $\\hat \\theta_{j}$ are learned/observed after the modelling. \n",
    "\n",
    "Overall, the process is as follows: \n",
    "- We will first be working with the data $\\underline{\\boldsymbol{y}}=\\boldsymbol{X\\underline{\\theta}}$\n",
    "- Once we solve this matrix multiplication problem, we will have calculated $\\underline{\\boldsymbol{\\hat \\theta}} = \\{\\hat \\theta_{j}; \\forall j \\in \\{1,\\dots,p\\}\\}$ \n",
    "- We can then substitute all $\\hat \\theta_{j}'s$ back into $\\underline{\\boldsymbol{y}}=\\boldsymbol{X\\underline{\\theta}}$  to give us $\\underline{\\boldsymbol{\\hat y}} = \\boldsymbol{X\\underline{\\hat \\theta}}$\n",
    "\n",
    "The last step is equivalent to finding the estimated parameters $\\hat \\theta_{p}$ via minimising the total error i.e. sum of the difference between predictions and observations, which is $\\underline{\\boldsymbol{y}}-\\underline{\\boldsymbol{\\hat y}} := \\underline{\\boldsymbol{e}} $. "
   ]
  },
  {
   "cell_type": "markdown",
   "metadata": {},
   "source": [
    "## Visual Intuition"
   ]
  },
  {
   "cell_type": "markdown",
   "metadata": {},
   "source": [
    "<img src=\"https://lh3.googleusercontent.com/proxy/4eRuJp-Kr01WRavXXljdt6eIuzuNPBy81MJdyVXYNTsnpICogRiq9fGvCDMcBZMsA4cFRrZfJVvl3NdsKXONkoF7WaAYa8lgwsPecZf4vIcy2s9AMeRE9qMqqVmeK2I_qDySxrnd5vNMfEP0Q9xbAcPg-KXmm36mgZw\" width=\"500\">\n",
    "<div class=\"alert alert-success\">\n",
    "  <strong>Reference: <a href=\"https://lh3.googleusercontent.com/proxy/4eRuJp-Kr01WRavXXljdt6eIuzuNPBy81MJdyVXYNTsnpICogRiq9fGvCDMcBZMsA4cFRrZfJVvl3NdsKXONkoF7WaAYa8lgwsPecZf4vIcy2s9AMeRE9qMqqVmeK2I_qDySxrnd5vNMfEP0Q9xbAcPg-KXmm36mgZw\">Linear Regression\n",
    "    </a></strong> \n",
    "</div>"
   ]
  },
  {
   "cell_type": "markdown",
   "metadata": {},
   "source": [
    "## Method (1)"
   ]
  },
  {
   "cell_type": "markdown",
   "metadata": {},
   "source": [
    "The least squares finds a solution that minimises the mean squred error of our linear regression model. This happens to also be equivalently known as the Linear Regression Cost Function. \n",
    "    \n",
    "<br>\n",
    "The cost function, is defined as (in non-matrix vector form):\n",
    "\n",
    "$$ MSE_{Linear} = J(\\underline{\\boldsymbol \\theta}) = \\frac{1}{m} \\sum_{i=1}^m \\left( \\hat y - y^{(i)}\\right)^2$$\n",
    "\n",
    "This can also be written as (in matrix vector form):\n",
    "\n",
    "$$ MSE_{Linear} = J(\\underline{\\boldsymbol \\theta}) = \\frac{1}{m}[(\\underline{\\boldsymbol y} -\\boldsymbol X \\underline{\\boldsymbol \\theta})^T (\\underline{\\boldsymbol y} -\\boldsymbol X \\underline{\\boldsymbol \\theta})]$$\n",
    "\n",
    "Thus, we seek:\n",
    "\n",
    "$$\n",
    "\\underline{\\boldsymbol{\\hat \\theta}} = \\{\\underline{\\boldsymbol \\theta} : \n",
    "\\underset{\\underline{\\boldsymbol\\theta}}{\\text{min}}\\ {J(\\theta)}\\}\n",
    "$$"
   ]
  },
  {
   "cell_type": "markdown",
   "metadata": {},
   "source": [
    "## Solution (1)"
   ]
  },
  {
   "cell_type": "markdown",
   "metadata": {},
   "source": [
    "Finding the least squares solution to the linear cost function/MSE can be done via multivariable differentiation technqiues. Instead, we will look at the equivalent form; that is, using maximum likelihood estimation, we find the parameters $\\boldsymbol\\theta^{\\mathrm{ML}}$ that maximises the likelihood of our linear regression model:\n",
    "    \n",
    "$$\n",
    "p(\\mathcal Y | \\mathcal X, \\underline{\\boldsymbol\\theta}) = \\prod_{n=1}^N p(y_n | \\boldsymbol x_n, \\underline{\\boldsymbol{{\\theta}}})\\,\n",
    "$$\n",
    "We know by calculation that the maximum likelihood estimator is given by:\n",
    "    \n",
    "$$\n",
    "\\underline{\\boldsymbol{\\theta}}^{\\text{ML}} = (\\boldsymbol X^T\\boldsymbol X)^{-1}\\boldsymbol X^T\\boldsymbol y \\, \n",
    "$$\n",
    "<br>\n",
    "which yields us the same answers as the derivation from differentiation of the matrix vector MSE form. "
   ]
  },
  {
   "cell_type": "markdown",
   "metadata": {},
   "source": [
    "## Code Implementation "
   ]
  },
  {
   "cell_type": "markdown",
   "metadata": {},
   "source": [
    "We will be using Pandas to manipulate the data and matrices for mathematical computations.\n",
    "\n",
    "- To turn any array into a dataframe, we just apply *pd.DataFrame($\\cdot$)*.\n",
    "- To turn any dataframe into an array, we just apply *.values($\\cdot$)* at the end of the dataframe.\n",
    "\n",
    "The reason for this is because numpy in-built/matrices calculations in dataframes are unreliable (why?). \n",
    "\n",
    "Check this by calculating:\n",
    "- *data_df.iloc[:,:2].std(axis=0)* \n",
    "- *data_df.iloc[:,:2].values.std(axis=0)*"
   ]
  },
  {
   "cell_type": "markdown",
   "metadata": {},
   "source": [
    "### Univariate Linear Regression"
   ]
  },
  {
   "cell_type": "markdown",
   "metadata": {},
   "source": [
    "We first begin this section by looking at a dataset which only involves 1 feature. \n",
    "\n",
    "**Note:** Sometimes the dataset is combined i.e. the features and outcome variable are in one dataframe. This will then need to be seperated."
   ]
  },
  {
   "cell_type": "markdown",
   "metadata": {},
   "source": [
    "#### Load Data"
   ]
  },
  {
   "cell_type": "code",
   "execution_count": 2,
   "metadata": {},
   "outputs": [],
   "source": [
    "# Load data \n",
    "data_df_1 = pd.read_csv('ex1data1.txt', header = None)\n",
    "# Label columns\n",
    "data_df_1.columns = ['Population of City in 10,000s', 'Profit in £10,000s']"
   ]
  },
  {
   "cell_type": "code",
   "execution_count": 3,
   "metadata": {},
   "outputs": [
    {
     "name": "stdout",
     "output_type": "stream",
     "text": [
      "<class 'pandas.core.frame.DataFrame'>\n",
      "RangeIndex: 97 entries, 0 to 96\n",
      "Data columns (total 2 columns):\n",
      " #   Column                         Non-Null Count  Dtype  \n",
      "---  ------                         --------------  -----  \n",
      " 0   Population of City in 10,000s  97 non-null     float64\n",
      " 1   Profit in £10,000s             97 non-null     float64\n",
      "dtypes: float64(2)\n",
      "memory usage: 1.6 KB\n"
     ]
    }
   ],
   "source": [
    "# Check the data\n",
    "data_df_1.info()"
   ]
  },
  {
   "cell_type": "markdown",
   "metadata": {},
   "source": [
    "Our dataset does not have any missing or NaN values so we are good to proceed.\n",
    "\n",
    "A routine machine learning technique is to check the dataset and see the size of the input/target values. We would like our dataset to be somewhat normally distributed if we attempt to do any type of regression on it..."
   ]
  },
  {
   "cell_type": "code",
   "execution_count": 4,
   "metadata": {},
   "outputs": [
    {
     "data": {
      "text/html": [
       "<div>\n",
       "<style scoped>\n",
       "    .dataframe tbody tr th:only-of-type {\n",
       "        vertical-align: middle;\n",
       "    }\n",
       "\n",
       "    .dataframe tbody tr th {\n",
       "        vertical-align: top;\n",
       "    }\n",
       "\n",
       "    .dataframe thead th {\n",
       "        text-align: right;\n",
       "    }\n",
       "</style>\n",
       "<table border=\"1\" class=\"dataframe\">\n",
       "  <thead>\n",
       "    <tr style=\"text-align: right;\">\n",
       "      <th></th>\n",
       "      <th>Population of City in 10,000s</th>\n",
       "      <th>Profit in £10,000s</th>\n",
       "    </tr>\n",
       "  </thead>\n",
       "  <tbody>\n",
       "    <tr>\n",
       "      <th>0</th>\n",
       "      <td>6.1101</td>\n",
       "      <td>17.59200</td>\n",
       "    </tr>\n",
       "    <tr>\n",
       "      <th>1</th>\n",
       "      <td>5.5277</td>\n",
       "      <td>9.13020</td>\n",
       "    </tr>\n",
       "    <tr>\n",
       "      <th>2</th>\n",
       "      <td>8.5186</td>\n",
       "      <td>13.66200</td>\n",
       "    </tr>\n",
       "    <tr>\n",
       "      <th>3</th>\n",
       "      <td>7.0032</td>\n",
       "      <td>11.85400</td>\n",
       "    </tr>\n",
       "    <tr>\n",
       "      <th>4</th>\n",
       "      <td>5.8598</td>\n",
       "      <td>6.82330</td>\n",
       "    </tr>\n",
       "    <tr>\n",
       "      <th>...</th>\n",
       "      <td>...</td>\n",
       "      <td>...</td>\n",
       "    </tr>\n",
       "    <tr>\n",
       "      <th>92</th>\n",
       "      <td>5.8707</td>\n",
       "      <td>7.20290</td>\n",
       "    </tr>\n",
       "    <tr>\n",
       "      <th>93</th>\n",
       "      <td>5.3054</td>\n",
       "      <td>1.98690</td>\n",
       "    </tr>\n",
       "    <tr>\n",
       "      <th>94</th>\n",
       "      <td>8.2934</td>\n",
       "      <td>0.14454</td>\n",
       "    </tr>\n",
       "    <tr>\n",
       "      <th>95</th>\n",
       "      <td>13.3940</td>\n",
       "      <td>9.05510</td>\n",
       "    </tr>\n",
       "    <tr>\n",
       "      <th>96</th>\n",
       "      <td>5.4369</td>\n",
       "      <td>0.61705</td>\n",
       "    </tr>\n",
       "  </tbody>\n",
       "</table>\n",
       "<p>97 rows × 2 columns</p>\n",
       "</div>"
      ],
      "text/plain": [
       "    Population of City in 10,000s  Profit in £10,000s\n",
       "0                          6.1101            17.59200\n",
       "1                          5.5277             9.13020\n",
       "2                          8.5186            13.66200\n",
       "3                          7.0032            11.85400\n",
       "4                          5.8598             6.82330\n",
       "..                            ...                 ...\n",
       "92                         5.8707             7.20290\n",
       "93                         5.3054             1.98690\n",
       "94                         8.2934             0.14454\n",
       "95                        13.3940             9.05510\n",
       "96                         5.4369             0.61705\n",
       "\n",
       "[97 rows x 2 columns]"
      ]
     },
     "execution_count": 4,
     "metadata": {},
     "output_type": "execute_result"
    }
   ],
   "source": [
    "# Look at data\n",
    "data_df_1"
   ]
  },
  {
   "cell_type": "markdown",
   "metadata": {},
   "source": [
    "Values are within the same order of magnitude, so no feature scaling is needed! "
   ]
  },
  {
   "cell_type": "markdown",
   "metadata": {},
   "source": [
    "#### Plot Data"
   ]
  },
  {
   "cell_type": "code",
   "execution_count": 5,
   "metadata": {},
   "outputs": [],
   "source": [
    "def plot_data(data):\n",
    "    \n",
    "    \"\"\" Plot 2-D dataset. \"\"\"\n",
    "    \n",
    "    # Split data into X inputs and y outcomes (from dataframe)\n",
    "    X = data[:,0]\n",
    "    y = data[:,1]\n",
    "    plt.xlabel('$x$')\n",
    "    plt.ylabel('$y$')\n",
    "    plt.title('Investigating relationship between ...')\n",
    "    plt.plot(X,y,'ro', mec= 'k')"
   ]
  },
  {
   "cell_type": "markdown",
   "metadata": {},
   "source": [
    "For this dataset, we can change the labels in the code (as we know what they are - this will be left for the viewer to attempt). "
   ]
  },
  {
   "cell_type": "code",
   "execution_count": 6,
   "metadata": {},
   "outputs": [
    {
     "data": {
      "image/png": "[encoded data removed]",
      "text/plain": [
       "<Figure size 432x288 with 1 Axes>"
      ]
     },
     "metadata": {
      "needs_background": "light"
     },
     "output_type": "display_data"
    }
   ],
   "source": [
    "plot_data(data_df_1.values)"
   ]
  },
  {
   "cell_type": "markdown",
   "metadata": {},
   "source": [
    "The scatter plot is quite messy and erratic however one could argue that there is somewhat of a positive linear relationship and we will investigate this hypothesis further."
   ]
  },
  {
   "cell_type": "markdown",
   "metadata": {},
   "source": [
    "#### Create full dataset"
   ]
  },
  {
   "cell_type": "markdown",
   "metadata": {},
   "source": [
    "We see that there is a missing column of 1's at the start (which is usually in our $X$ array) and so we must add this in."
   ]
  },
  {
   "cell_type": "code",
   "execution_count": 7,
   "metadata": {},
   "outputs": [
    {
     "data": {
      "text/html": [
       "<div>\n",
       "<style scoped>\n",
       "    .dataframe tbody tr th:only-of-type {\n",
       "        vertical-align: middle;\n",
       "    }\n",
       "\n",
       "    .dataframe tbody tr th {\n",
       "        vertical-align: top;\n",
       "    }\n",
       "\n",
       "    .dataframe thead th {\n",
       "        text-align: right;\n",
       "    }\n",
       "</style>\n",
       "<table border=\"1\" class=\"dataframe\">\n",
       "  <thead>\n",
       "    <tr style=\"text-align: right;\">\n",
       "      <th></th>\n",
       "      <th>0</th>\n",
       "      <th>Population of City in 10,000s</th>\n",
       "      <th>Profit in £10,000s</th>\n",
       "    </tr>\n",
       "  </thead>\n",
       "  <tbody>\n",
       "    <tr>\n",
       "      <th>0</th>\n",
       "      <td>1.0</td>\n",
       "      <td>6.1101</td>\n",
       "      <td>17.59200</td>\n",
       "    </tr>\n",
       "    <tr>\n",
       "      <th>1</th>\n",
       "      <td>1.0</td>\n",
       "      <td>5.5277</td>\n",
       "      <td>9.13020</td>\n",
       "    </tr>\n",
       "    <tr>\n",
       "      <th>2</th>\n",
       "      <td>1.0</td>\n",
       "      <td>8.5186</td>\n",
       "      <td>13.66200</td>\n",
       "    </tr>\n",
       "    <tr>\n",
       "      <th>3</th>\n",
       "      <td>1.0</td>\n",
       "      <td>7.0032</td>\n",
       "      <td>11.85400</td>\n",
       "    </tr>\n",
       "    <tr>\n",
       "      <th>4</th>\n",
       "      <td>1.0</td>\n",
       "      <td>5.8598</td>\n",
       "      <td>6.82330</td>\n",
       "    </tr>\n",
       "    <tr>\n",
       "      <th>...</th>\n",
       "      <td>...</td>\n",
       "      <td>...</td>\n",
       "      <td>...</td>\n",
       "    </tr>\n",
       "    <tr>\n",
       "      <th>92</th>\n",
       "      <td>1.0</td>\n",
       "      <td>5.8707</td>\n",
       "      <td>7.20290</td>\n",
       "    </tr>\n",
       "    <tr>\n",
       "      <th>93</th>\n",
       "      <td>1.0</td>\n",
       "      <td>5.3054</td>\n",
       "      <td>1.98690</td>\n",
       "    </tr>\n",
       "    <tr>\n",
       "      <th>94</th>\n",
       "      <td>1.0</td>\n",
       "      <td>8.2934</td>\n",
       "      <td>0.14454</td>\n",
       "    </tr>\n",
       "    <tr>\n",
       "      <th>95</th>\n",
       "      <td>1.0</td>\n",
       "      <td>13.3940</td>\n",
       "      <td>9.05510</td>\n",
       "    </tr>\n",
       "    <tr>\n",
       "      <th>96</th>\n",
       "      <td>1.0</td>\n",
       "      <td>5.4369</td>\n",
       "      <td>0.61705</td>\n",
       "    </tr>\n",
       "  </tbody>\n",
       "</table>\n",
       "<p>97 rows × 3 columns</p>\n",
       "</div>"
      ],
      "text/plain": [
       "      0  Population of City in 10,000s  Profit in £10,000s\n",
       "0   1.0                         6.1101            17.59200\n",
       "1   1.0                         5.5277             9.13020\n",
       "2   1.0                         8.5186            13.66200\n",
       "3   1.0                         7.0032            11.85400\n",
       "4   1.0                         5.8598             6.82330\n",
       "..  ...                            ...                 ...\n",
       "92  1.0                         5.8707             7.20290\n",
       "93  1.0                         5.3054             1.98690\n",
       "94  1.0                         8.2934             0.14454\n",
       "95  1.0                        13.3940             9.05510\n",
       "96  1.0                         5.4369             0.61705\n",
       "\n",
       "[97 rows x 3 columns]"
      ]
     },
     "execution_count": 7,
     "metadata": {},
     "output_type": "execute_result"
    }
   ],
   "source": [
    "# Create column of 1's \n",
    "ones = np.ones((len(data_df_1)))\n",
    "# Add column of 1's on the left to dataset/matrix\n",
    "data_aug_df = pd.DataFrame(ones).join(data_df_1)\n",
    "# Print dataframe\n",
    "data_aug_df"
   ]
  },
  {
   "cell_type": "markdown",
   "metadata": {},
   "source": [
    "#### Cost Function and Solution"
   ]
  },
  {
   "cell_type": "markdown",
   "metadata": {},
   "source": [
    "Fantastic! Now we can create our Linear Regression cost function and the Normal Equations/Least Squares solution."
   ]
  },
  {
   "cell_type": "code",
   "execution_count": 8,
   "metadata": {},
   "outputs": [],
   "source": [
    "def LR_Cost(X, y, theta):\n",
    "    \n",
    "    \"\"\" Return the Mean Squared Error of a linear regression model. \"\"\"\n",
    "    \n",
    "    # Retrieve feature dimensions\n",
    "    m, n = X.shape \n",
    "    # Calculate error \n",
    "    residual = y - X @ theta\n",
    "    # Calculate Cost Function \n",
    "    CF_LR = (1/m) * (residual.T @ residual)\n",
    "    # Return Cost Function\n",
    "    return CF_LR"
   ]
  },
  {
   "cell_type": "code",
   "execution_count": 9,
   "metadata": {},
   "outputs": [],
   "source": [
    "def LS_NE(X, y):\n",
    "    \n",
    "    \"\"\" Return the maximum likelihood estimate (theta ML) from the normal equations \n",
    "    as this maximises the likelihood of the linear regression model. \"\"\"\n",
    "    \n",
    "    # Calculate estimator theta\n",
    "    theta_ML = np.linalg.solve((X.T @ X), X.T @ y)\n",
    "    # Return estimates \n",
    "    return theta_ML"
   ]
  },
  {
   "cell_type": "markdown",
   "metadata": {},
   "source": [
    "Lastly, we will also calculate our predictions and accuracies (the accuracies function is more tailored for classification problems)."
   ]
  },
  {
   "cell_type": "code",
   "execution_count": 10,
   "metadata": {},
   "outputs": [],
   "source": [
    "def model_predict(X, theta_estimate):\n",
    "    \n",
    "    \"\"\" Return model predictions. \"\"\"\n",
    "    \n",
    "    y_pred = X @ theta_estimate\n",
    "    # Return predictions\n",
    "    return y_pred"
   ]
  },
  {
   "cell_type": "code",
   "execution_count": 11,
   "metadata": {},
   "outputs": [],
   "source": [
    "def model_acc(y_predict, y_target):\n",
    "    \n",
    "    \"\"\" Calculate accuracy and predictions. \"\"\"\n",
    "    \n",
    "    # Return mean accuracy\n",
    "    return np.float(sum(y_predict==y_target)) / float(len(y_target))"
   ]
  },
  {
   "cell_type": "markdown",
   "metadata": {},
   "source": [
    "#### Machine Learning Model"
   ]
  },
  {
   "cell_type": "markdown",
   "metadata": {},
   "source": [
    "We will now create our machine learning model to find our $\\hat \\theta$ estimates. We will then use this to calculate the MSE of our function."
   ]
  },
  {
   "cell_type": "code",
   "execution_count": 52,
   "metadata": {},
   "outputs": [
    {
     "name": "stdout",
     "output_type": "stream",
     "text": [
      "Theta estimates are: [[-3.89578088]\n",
      " [ 1.19303364]]\n",
      "Entire dataset mean squared error: [[8.95394275]]\n"
     ]
    }
   ],
   "source": [
    "# Separate features and target variable\n",
    "X_data = data_aug_df.iloc[:,:2]\n",
    "y_data = data_aug_df.iloc[:,2:]\n",
    "# Calculate Least Squares solution (converting into numpy array)\n",
    "theta_ML_1 = LS_NE(X_data.values, y_data.values)\n",
    "# Calculate MSE on training and test dataset\n",
    "MSE_data = LR_Cost(X_data.values,y_data.values,theta_ML_1)\n",
    "print(\"Theta estimates are: {}\".format(theta_ML_1))\n",
    "print(\"Entire dataset mean squared error: {}\".format(MSE_data))"
   ]
  },
  {
   "cell_type": "markdown",
   "metadata": {},
   "source": [
    "Our test error is very low which suggests that ths linear regression model fits the data well. Our machine learning algorithm is a success! \n",
    "\n",
    "- Notice that these arrays are $2D$ - we can change them to $1D$ by using *.flatten($\\cdot$)* on them (as this might make matrix multiplication easier later however it is not necessary as long as you keep the dimensions of the matrices compatible). "
   ]
  },
  {
   "cell_type": "code",
   "execution_count": 13,
   "metadata": {},
   "outputs": [],
   "source": [
    "# Given the estimates, calculate predictions and plot the predicted linear regression line\n",
    "y_train_predict = model_predict(X_data.values, theta_ML)"
   ]
  },
  {
   "cell_type": "code",
   "execution_count": 14,
   "metadata": {},
   "outputs": [
    {
     "data": {
      "image/png": "[encoded data removed]",
      "text/plain": [
       "<Figure size 432x288 with 1 Axes>"
      ]
     },
     "metadata": {
      "needs_background": "light"
     },
     "output_type": "display_data"
    }
   ],
   "source": [
    "# Plot training data against predictive model\n",
    "plt.xlabel('Population in city in 10,000s')\n",
    "plt.ylabel('Profit in £10,000s')\n",
    "plt.title('Relationship between city size and profit size')\n",
    "plt.plot(data_df_1.values[:,0],data_df_1.values[:,1],'ro', mec= 'k');\n",
    "plt.plot(data_df_1.values[:,0],y_train_predict,'-b', mec= 'k');\n",
    "plt.legend(['Dataset', 'Linear Regression']);"
   ]
  },
  {
   "cell_type": "markdown",
   "metadata": {},
   "source": [
    "To validate our hypothesis, let us look at the statistical in-built Pearson correlation coefficient."
   ]
  },
  {
   "cell_type": "code",
   "execution_count": 15,
   "metadata": {},
   "outputs": [
    {
     "data": {
      "text/html": [
       "<div>\n",
       "<style scoped>\n",
       "    .dataframe tbody tr th:only-of-type {\n",
       "        vertical-align: middle;\n",
       "    }\n",
       "\n",
       "    .dataframe tbody tr th {\n",
       "        vertical-align: top;\n",
       "    }\n",
       "\n",
       "    .dataframe thead th {\n",
       "        text-align: right;\n",
       "    }\n",
       "</style>\n",
       "<table border=\"1\" class=\"dataframe\">\n",
       "  <thead>\n",
       "    <tr style=\"text-align: right;\">\n",
       "      <th></th>\n",
       "      <th>Population of City in 10,000s</th>\n",
       "      <th>Profit in £10,000s</th>\n",
       "    </tr>\n",
       "  </thead>\n",
       "  <tbody>\n",
       "    <tr>\n",
       "      <th>Population of City in 10,000s</th>\n",
       "      <td>1.000000</td>\n",
       "      <td>0.837873</td>\n",
       "    </tr>\n",
       "    <tr>\n",
       "      <th>Profit in £10,000s</th>\n",
       "      <td>0.837873</td>\n",
       "      <td>1.000000</td>\n",
       "    </tr>\n",
       "  </tbody>\n",
       "</table>\n",
       "</div>"
      ],
      "text/plain": [
       "                               Population of City in 10,000s  \\\n",
       "Population of City in 10,000s                       1.000000   \n",
       "Profit in £10,000s                                  0.837873   \n",
       "\n",
       "                               Profit in £10,000s  \n",
       "Population of City in 10,000s            0.837873  \n",
       "Profit in £10,000s                       1.000000  "
      ]
     },
     "execution_count": 15,
     "metadata": {},
     "output_type": "execute_result"
    }
   ],
   "source": [
    "data_df_1.corr()"
   ]
  },
  {
   "cell_type": "markdown",
   "metadata": {},
   "source": [
    "The correlation between the $X$ feature and $y$ outcome variable is approximately 0.84, which is very high and positive, indicating a strong positive linear relationship."
   ]
  },
  {
   "cell_type": "markdown",
   "metadata": {},
   "source": [
    "### Multi-Variate Linear Regression"
   ]
  },
  {
   "cell_type": "markdown",
   "metadata": {},
   "source": [
    "We repeat the above procedure, but now use a dataset with more than 1 feature. "
   ]
  },
  {
   "cell_type": "code",
   "execution_count": 16,
   "metadata": {},
   "outputs": [],
   "source": [
    "# Load data \n",
    "data_df_2 = pd.read_csv('ex1data2.txt', header = None)\n",
    "# Label columns\n",
    "data_df_2.columns = ['Size (sq.ft)', 'Number of bedrooms {#}', 'House Price (£)']"
   ]
  },
  {
   "cell_type": "code",
   "execution_count": 17,
   "metadata": {},
   "outputs": [
    {
     "name": "stdout",
     "output_type": "stream",
     "text": [
      "<class 'pandas.core.frame.DataFrame'>\n",
      "RangeIndex: 47 entries, 0 to 46\n",
      "Data columns (total 3 columns):\n",
      " #   Column                  Non-Null Count  Dtype\n",
      "---  ------                  --------------  -----\n",
      " 0   Size (sq.ft)            47 non-null     int64\n",
      " 1   Number of bedrooms {#}  47 non-null     int64\n",
      " 2   House Price (£)         47 non-null     int64\n",
      "dtypes: int64(3)\n",
      "memory usage: 1.2 KB\n"
     ]
    }
   ],
   "source": [
    "# Check the data\n",
    "data_df_2.info()"
   ]
  },
  {
   "cell_type": "code",
   "execution_count": 18,
   "metadata": {},
   "outputs": [
    {
     "data": {
      "text/html": [
       "<div>\n",
       "<style scoped>\n",
       "    .dataframe tbody tr th:only-of-type {\n",
       "        vertical-align: middle;\n",
       "    }\n",
       "\n",
       "    .dataframe tbody tr th {\n",
       "        vertical-align: top;\n",
       "    }\n",
       "\n",
       "    .dataframe thead th {\n",
       "        text-align: right;\n",
       "    }\n",
       "</style>\n",
       "<table border=\"1\" class=\"dataframe\">\n",
       "  <thead>\n",
       "    <tr style=\"text-align: right;\">\n",
       "      <th></th>\n",
       "      <th>Size (sq.ft)</th>\n",
       "      <th>Number of bedrooms {#}</th>\n",
       "      <th>House Price (£)</th>\n",
       "    </tr>\n",
       "  </thead>\n",
       "  <tbody>\n",
       "    <tr>\n",
       "      <th>0</th>\n",
       "      <td>2104</td>\n",
       "      <td>3</td>\n",
       "      <td>399900</td>\n",
       "    </tr>\n",
       "    <tr>\n",
       "      <th>1</th>\n",
       "      <td>1600</td>\n",
       "      <td>3</td>\n",
       "      <td>329900</td>\n",
       "    </tr>\n",
       "    <tr>\n",
       "      <th>2</th>\n",
       "      <td>2400</td>\n",
       "      <td>3</td>\n",
       "      <td>369000</td>\n",
       "    </tr>\n",
       "    <tr>\n",
       "      <th>3</th>\n",
       "      <td>1416</td>\n",
       "      <td>2</td>\n",
       "      <td>232000</td>\n",
       "    </tr>\n",
       "    <tr>\n",
       "      <th>4</th>\n",
       "      <td>3000</td>\n",
       "      <td>4</td>\n",
       "      <td>539900</td>\n",
       "    </tr>\n",
       "    <tr>\n",
       "      <th>5</th>\n",
       "      <td>1985</td>\n",
       "      <td>4</td>\n",
       "      <td>299900</td>\n",
       "    </tr>\n",
       "    <tr>\n",
       "      <th>6</th>\n",
       "      <td>1534</td>\n",
       "      <td>3</td>\n",
       "      <td>314900</td>\n",
       "    </tr>\n",
       "    <tr>\n",
       "      <th>7</th>\n",
       "      <td>1427</td>\n",
       "      <td>3</td>\n",
       "      <td>198999</td>\n",
       "    </tr>\n",
       "    <tr>\n",
       "      <th>8</th>\n",
       "      <td>1380</td>\n",
       "      <td>3</td>\n",
       "      <td>212000</td>\n",
       "    </tr>\n",
       "    <tr>\n",
       "      <th>9</th>\n",
       "      <td>1494</td>\n",
       "      <td>3</td>\n",
       "      <td>242500</td>\n",
       "    </tr>\n",
       "    <tr>\n",
       "      <th>10</th>\n",
       "      <td>1940</td>\n",
       "      <td>4</td>\n",
       "      <td>239999</td>\n",
       "    </tr>\n",
       "    <tr>\n",
       "      <th>11</th>\n",
       "      <td>2000</td>\n",
       "      <td>3</td>\n",
       "      <td>347000</td>\n",
       "    </tr>\n",
       "    <tr>\n",
       "      <th>12</th>\n",
       "      <td>1890</td>\n",
       "      <td>3</td>\n",
       "      <td>329999</td>\n",
       "    </tr>\n",
       "    <tr>\n",
       "      <th>13</th>\n",
       "      <td>4478</td>\n",
       "      <td>5</td>\n",
       "      <td>699900</td>\n",
       "    </tr>\n",
       "    <tr>\n",
       "      <th>14</th>\n",
       "      <td>1268</td>\n",
       "      <td>3</td>\n",
       "      <td>259900</td>\n",
       "    </tr>\n",
       "    <tr>\n",
       "      <th>15</th>\n",
       "      <td>2300</td>\n",
       "      <td>4</td>\n",
       "      <td>449900</td>\n",
       "    </tr>\n",
       "    <tr>\n",
       "      <th>16</th>\n",
       "      <td>1320</td>\n",
       "      <td>2</td>\n",
       "      <td>299900</td>\n",
       "    </tr>\n",
       "    <tr>\n",
       "      <th>17</th>\n",
       "      <td>1236</td>\n",
       "      <td>3</td>\n",
       "      <td>199900</td>\n",
       "    </tr>\n",
       "    <tr>\n",
       "      <th>18</th>\n",
       "      <td>2609</td>\n",
       "      <td>4</td>\n",
       "      <td>499998</td>\n",
       "    </tr>\n",
       "    <tr>\n",
       "      <th>19</th>\n",
       "      <td>3031</td>\n",
       "      <td>4</td>\n",
       "      <td>599000</td>\n",
       "    </tr>\n",
       "    <tr>\n",
       "      <th>20</th>\n",
       "      <td>1767</td>\n",
       "      <td>3</td>\n",
       "      <td>252900</td>\n",
       "    </tr>\n",
       "    <tr>\n",
       "      <th>21</th>\n",
       "      <td>1888</td>\n",
       "      <td>2</td>\n",
       "      <td>255000</td>\n",
       "    </tr>\n",
       "    <tr>\n",
       "      <th>22</th>\n",
       "      <td>1604</td>\n",
       "      <td>3</td>\n",
       "      <td>242900</td>\n",
       "    </tr>\n",
       "    <tr>\n",
       "      <th>23</th>\n",
       "      <td>1962</td>\n",
       "      <td>4</td>\n",
       "      <td>259900</td>\n",
       "    </tr>\n",
       "    <tr>\n",
       "      <th>24</th>\n",
       "      <td>3890</td>\n",
       "      <td>3</td>\n",
       "      <td>573900</td>\n",
       "    </tr>\n",
       "    <tr>\n",
       "      <th>25</th>\n",
       "      <td>1100</td>\n",
       "      <td>3</td>\n",
       "      <td>249900</td>\n",
       "    </tr>\n",
       "    <tr>\n",
       "      <th>26</th>\n",
       "      <td>1458</td>\n",
       "      <td>3</td>\n",
       "      <td>464500</td>\n",
       "    </tr>\n",
       "    <tr>\n",
       "      <th>27</th>\n",
       "      <td>2526</td>\n",
       "      <td>3</td>\n",
       "      <td>469000</td>\n",
       "    </tr>\n",
       "    <tr>\n",
       "      <th>28</th>\n",
       "      <td>2200</td>\n",
       "      <td>3</td>\n",
       "      <td>475000</td>\n",
       "    </tr>\n",
       "    <tr>\n",
       "      <th>29</th>\n",
       "      <td>2637</td>\n",
       "      <td>3</td>\n",
       "      <td>299900</td>\n",
       "    </tr>\n",
       "    <tr>\n",
       "      <th>30</th>\n",
       "      <td>1839</td>\n",
       "      <td>2</td>\n",
       "      <td>349900</td>\n",
       "    </tr>\n",
       "    <tr>\n",
       "      <th>31</th>\n",
       "      <td>1000</td>\n",
       "      <td>1</td>\n",
       "      <td>169900</td>\n",
       "    </tr>\n",
       "    <tr>\n",
       "      <th>32</th>\n",
       "      <td>2040</td>\n",
       "      <td>4</td>\n",
       "      <td>314900</td>\n",
       "    </tr>\n",
       "    <tr>\n",
       "      <th>33</th>\n",
       "      <td>3137</td>\n",
       "      <td>3</td>\n",
       "      <td>579900</td>\n",
       "    </tr>\n",
       "    <tr>\n",
       "      <th>34</th>\n",
       "      <td>1811</td>\n",
       "      <td>4</td>\n",
       "      <td>285900</td>\n",
       "    </tr>\n",
       "    <tr>\n",
       "      <th>35</th>\n",
       "      <td>1437</td>\n",
       "      <td>3</td>\n",
       "      <td>249900</td>\n",
       "    </tr>\n",
       "    <tr>\n",
       "      <th>36</th>\n",
       "      <td>1239</td>\n",
       "      <td>3</td>\n",
       "      <td>229900</td>\n",
       "    </tr>\n",
       "    <tr>\n",
       "      <th>37</th>\n",
       "      <td>2132</td>\n",
       "      <td>4</td>\n",
       "      <td>345000</td>\n",
       "    </tr>\n",
       "    <tr>\n",
       "      <th>38</th>\n",
       "      <td>4215</td>\n",
       "      <td>4</td>\n",
       "      <td>549000</td>\n",
       "    </tr>\n",
       "    <tr>\n",
       "      <th>39</th>\n",
       "      <td>2162</td>\n",
       "      <td>4</td>\n",
       "      <td>287000</td>\n",
       "    </tr>\n",
       "    <tr>\n",
       "      <th>40</th>\n",
       "      <td>1664</td>\n",
       "      <td>2</td>\n",
       "      <td>368500</td>\n",
       "    </tr>\n",
       "    <tr>\n",
       "      <th>41</th>\n",
       "      <td>2238</td>\n",
       "      <td>3</td>\n",
       "      <td>329900</td>\n",
       "    </tr>\n",
       "    <tr>\n",
       "      <th>42</th>\n",
       "      <td>2567</td>\n",
       "      <td>4</td>\n",
       "      <td>314000</td>\n",
       "    </tr>\n",
       "    <tr>\n",
       "      <th>43</th>\n",
       "      <td>1200</td>\n",
       "      <td>3</td>\n",
       "      <td>299000</td>\n",
       "    </tr>\n",
       "    <tr>\n",
       "      <th>44</th>\n",
       "      <td>852</td>\n",
       "      <td>2</td>\n",
       "      <td>179900</td>\n",
       "    </tr>\n",
       "    <tr>\n",
       "      <th>45</th>\n",
       "      <td>1852</td>\n",
       "      <td>4</td>\n",
       "      <td>299900</td>\n",
       "    </tr>\n",
       "    <tr>\n",
       "      <th>46</th>\n",
       "      <td>1203</td>\n",
       "      <td>3</td>\n",
       "      <td>239500</td>\n",
       "    </tr>\n",
       "  </tbody>\n",
       "</table>\n",
       "</div>"
      ],
      "text/plain": [
       "    Size (sq.ft)  Number of bedrooms {#}  House Price (£)\n",
       "0           2104                       3           399900\n",
       "1           1600                       3           329900\n",
       "2           2400                       3           369000\n",
       "3           1416                       2           232000\n",
       "4           3000                       4           539900\n",
       "5           1985                       4           299900\n",
       "6           1534                       3           314900\n",
       "7           1427                       3           198999\n",
       "8           1380                       3           212000\n",
       "9           1494                       3           242500\n",
       "10          1940                       4           239999\n",
       "11          2000                       3           347000\n",
       "12          1890                       3           329999\n",
       "13          4478                       5           699900\n",
       "14          1268                       3           259900\n",
       "15          2300                       4           449900\n",
       "16          1320                       2           299900\n",
       "17          1236                       3           199900\n",
       "18          2609                       4           499998\n",
       "19          3031                       4           599000\n",
       "20          1767                       3           252900\n",
       "21          1888                       2           255000\n",
       "22          1604                       3           242900\n",
       "23          1962                       4           259900\n",
       "24          3890                       3           573900\n",
       "25          1100                       3           249900\n",
       "26          1458                       3           464500\n",
       "27          2526                       3           469000\n",
       "28          2200                       3           475000\n",
       "29          2637                       3           299900\n",
       "30          1839                       2           349900\n",
       "31          1000                       1           169900\n",
       "32          2040                       4           314900\n",
       "33          3137                       3           579900\n",
       "34          1811                       4           285900\n",
       "35          1437                       3           249900\n",
       "36          1239                       3           229900\n",
       "37          2132                       4           345000\n",
       "38          4215                       4           549000\n",
       "39          2162                       4           287000\n",
       "40          1664                       2           368500\n",
       "41          2238                       3           329900\n",
       "42          2567                       4           314000\n",
       "43          1200                       3           299000\n",
       "44           852                       2           179900\n",
       "45          1852                       4           299900\n",
       "46          1203                       3           239500"
      ]
     },
     "execution_count": 18,
     "metadata": {},
     "output_type": "execute_result"
    }
   ],
   "source": [
    "# Look at data\n",
    "data_df_2"
   ]
  },
  {
   "cell_type": "markdown",
   "metadata": {},
   "source": [
    "Our dataset does not have any missing or NaN values so we are good to proceed!"
   ]
  },
  {
   "cell_type": "code",
   "execution_count": 19,
   "metadata": {},
   "outputs": [
    {
     "name": "stdout",
     "output_type": "stream",
     "text": [
      "Theta estimates are: [[89597.9095428 ]\n",
      " [  139.21067402]\n",
      " [-8738.01911233]]\n"
     ]
    }
   ],
   "source": [
    "# Create column of 1's \n",
    "ones = np.ones((len(data_df_2),1))\n",
    "# Add column of 1's on the left to dataset\n",
    "data = pd.DataFrame(np.hstack((ones, data_df_2)))\n",
    "# Create features and outcome/target variable\n",
    "X_data = data.iloc[:,:3]\n",
    "y_data = data.iloc[:,3:]\n",
    "# Calculate Least Squares solution \n",
    "theta_ML = LS_NE(X_data.values, y_data.values)\n",
    "print(\"Theta estimates are: {}\".format(theta_ML))"
   ]
  },
  {
   "cell_type": "markdown",
   "metadata": {},
   "source": [
    "Let us now predict a house price based on a given sq-ft and bedroom number..."
   ]
  },
  {
   "cell_type": "code",
   "execution_count": 20,
   "metadata": {},
   "outputs": [
    {
     "name": "stdout",
     "output_type": "stream",
     "text": [
      "Predicted price of a 1650 sq-ft, 3 br house (using gradient descent): £293081\n"
     ]
    }
   ],
   "source": [
    "# Estimate the price of a 1650 sq-ft, 3 br house\n",
    "price_normal = np.dot(theta_ML.flatten(), np.array([1,1650, 3]))\n",
    "print('Predicted price of a 1650 sq-ft, 3 br house (using gradient descent): £{:.0f}'.format(price_normal))"
   ]
  },
  {
   "cell_type": "code",
   "execution_count": 21,
   "metadata": {},
   "outputs": [
    {
     "name": "stdout",
     "output_type": "stream",
     "text": [
      "Dataset mean squared error: [[4.0865601e+09]]\n"
     ]
    }
   ],
   "source": [
    "# Calculate MSE\n",
    "MSE_train = LR_Cost(X_data.values, y_data.values, theta_ML)\n",
    "print(\"Dataset mean squared error: {}\".format(MSE_train))"
   ]
  },
  {
   "cell_type": "markdown",
   "metadata": {},
   "source": [
    "Our MSE is extremely high - this might suggest that using a linear regression algorithm is perhaps not best to model this dataset and should not be given to fellow house buyers or estate agenets. \n",
    "The reason why this is so high because our $y$ value is much higher in order than our features so even after feature scaling, the difference in magnitude between the predictions will still be high. "
   ]
  },
  {
   "cell_type": "markdown",
   "metadata": {},
   "source": [
    "# Feature Scaling (extra)"
   ]
  },
  {
   "cell_type": "markdown",
   "metadata": {},
   "source": [
    "Feature scaling is a technique used in machine learning to rectify the differences in 'orders of magnitude' of our features in the dataset/matrix $X$. Essentially, to fit for parametric methods (usually regression), we'd like to have our dataset somewhat normally distributed. \n",
    "\n",
    "- By looking at the values, note that house sizes are about 1000 times the number of bedrooms. \n",
    "- We therefore perform feature scaling, noting that it is done before adding one's into the first column.\n",
    "\n",
    "This should always be done for machine learning algorithms that do not provide **exact** solutions i.e. gradient descent techniques, estimators etc... As a result, we did not implement this before applying the normal equations solution as this solution takes care of the issue of 'magnitude' differences. "
   ]
  },
  {
   "cell_type": "code",
   "execution_count": 22,
   "metadata": {},
   "outputs": [],
   "source": [
    "def normalise(X):\n",
    "    \n",
    "    \"\"\" Normalises the features in X and returns a normalized version of X where\n",
    "    the mean value of each feature is 0 and the standard deviation\n",
    "    is 1. \"\"\"\n",
    "    \n",
    "    # Normalise features to give equal weighting to each feature\n",
    "    mu = X.mean(axis=0)\n",
    "    sigma = X.std(axis=0)\n",
    "    X_norm = (X - mu)/sigma\n",
    "    # Return normalised data, mean and standard deviation\n",
    "    return X_norm, mu, sigma"
   ]
  },
  {
   "cell_type": "markdown",
   "metadata": {},
   "source": [
    "# Machine Learning Model Alternate Methods"
   ]
  },
  {
   "cell_type": "markdown",
   "metadata": {},
   "source": [
    "In practice, we can solve this linear regression problem alternatively by using:\n",
    "- Gradient Descent (Batch, Mini-Batch or Stochastic)\n",
    "- Grid-Search\n",
    "\n",
    "We can improve the model's performance by:\n",
    "- Cross-Validation via data splits\n",
    "- Find the sample mean of the MSE values over some $N$ intialisations/iterations and shuffle the dataset per iteration. \n",
    "\n",
    "These techniques can be applied for numerous tasks (and we will see this in unsupervised and deep learning). We introduce the code/knowledge for Batch gradient descent and Grid-search here so that you can use them later for complex tasks."
   ]
  },
  {
   "cell_type": "markdown",
   "metadata": {},
   "source": [
    "## Gradient Descent Algorithm (Batch)"
   ]
  },
  {
   "cell_type": "markdown",
   "metadata": {},
   "source": [
    "Remind yourselves of the first datatset which was looking at the relationship between population size and profit in a city.\n",
    "\n",
    "We also showed that the objective of linear regression is to minimize the cost function:\n",
    "\n",
    "$$ J(\\underline{\\boldsymbol{\\theta}}) = \\frac{1}{m} \\sum_{i=1}^m \\left( f(\\boldsymbol x^{i}, \\underline{\\boldsymbol \\theta})  - y^{(i)}\\right)^2$$\n",
    "\n",
    "where the hypothesis $f(\\boldsymbol x^{i}, \\underline{\\boldsymbol \\theta}) = f_\\theta(\\boldsymbol x)$ is given by the linear model:\n",
    "\n",
    "$$ f_\\theta(\\boldsymbol x) = \\theta^T\\underline{x} = \\theta_0 + \\theta_1 x_1$$"
   ]
  },
  {
   "cell_type": "markdown",
   "metadata": {},
   "source": [
    "Recall that the parameters of your model are the $\\theta_j$ values. These are\n",
    "the values you will adjust to minimize cost $J(\\theta)$. One way to do this is to\n",
    "use the batch gradient descent algorithm. In batch gradient descent, each\n",
    "iteration performs the update (using the **entire** dataset):\n",
    "\n",
    "\\begin{align}\n",
    "\\theta_j &= \\theta_j - \\alpha \\nabla{J(\\theta)} \\qquad \\text{general gradient descent update } \\\\\n",
    "&= \\theta_j - \\frac{\\alpha}{2m} \\sum_{i=1}^m \\left( h_\\theta(x^{(i)}) - y^{(i)}\\right)x_j^{(i)} \\qquad \\text{simultaneously update linear regression parameters } \\theta_j \\text{ for all } j\n",
    "\\end{align}\n",
    "\n",
    "With each step of gradient descent, your parameters $\\theta_j$ come closer to the optimal values $\\hat \\theta_j$ that will achieve the lowest cost $J (\\theta)$."
   ]
  },
  {
   "cell_type": "markdown",
   "metadata": {},
   "source": [
    "<div class=\"alert alert-warning\">\n",
    "  <strong>Q: What type of optimsation problem is this?</strong>\n",
    "</div>"
   ]
  },
  {
   "cell_type": "code",
   "execution_count": 23,
   "metadata": {},
   "outputs": [],
   "source": [
    "def LR_Derivatives(X_aug, y, theta):\n",
    "    \n",
    "    \"\"\" Returns the gradient function of the model. \"\"\"\n",
    "    \n",
    "    # Number of training examples\n",
    "    m = X_aug.shape[0]\n",
    "    # Calculate derivatives in matrix form\n",
    "    dtheta = 1/(2*m) * ((X_aug @ theta) - y) @ X_aug\n",
    "    # Return derivatives\n",
    "    return dtheta"
   ]
  },
  {
   "cell_type": "code",
   "execution_count": 24,
   "metadata": {},
   "outputs": [],
   "source": [
    "def LR_BGD(X_aug, y, theta, num_iterations=1000, learning_rate=0.005, print_cost=False):\n",
    "    \n",
    "    \"\"\" Perform Batch Gradient descent algorithm on model and return the theta estimates and costs\n",
    "    over the iterations.\n",
    "    \"\"\"\n",
    "    \n",
    "    # Store costs\n",
    "    costs = np.zeros((num_iterations))\n",
    "    # Perform batch gradient descent\n",
    "    for i in range(num_iterations):\n",
    "    # Calculate cost and gradients \n",
    "        costs[i] = LR_Cost(X_aug, y, theta)\n",
    "        dtheta = LR_Derivatives(X_aug, y, theta)\n",
    "        # Updating procedure\n",
    "        theta -= learning_rate*dtheta\n",
    "    # Return estimates and costs\n",
    "    print(\"Batch Gradient Descent algorithm complete! \\n\")\n",
    "    return costs, theta"
   ]
  },
  {
   "cell_type": "markdown",
   "metadata": {},
   "source": [
    "**Note:** The previous cells for the first dataset have to be run again to obtain the augmented $X$ feature matrix and corresponding $y$ outcome variable data."
   ]
  },
  {
   "cell_type": "code",
   "execution_count": 33,
   "metadata": {},
   "outputs": [
    {
     "name": "stdout",
     "output_type": "stream",
     "text": [
      "Batch Gradient Descent algorithm complete! \n",
      "\n",
      "Theta estimates found by batch gradient descent: [-3.89529855  1.19298519]\n"
     ]
    },
    {
     "data": {
      "image/png": "[encoded data removed]",
      "text/plain": [
       "<Figure size 432x288 with 1 Axes>"
      ]
     },
     "metadata": {
      "needs_background": "light"
     },
     "output_type": "display_data"
    }
   ],
   "source": [
    "# Initialise starting theta values\n",
    "theta = np.zeros(2)\n",
    "# Initialise reasonable learning rate and choose number of iterations\n",
    "learning_rate = 0.01\n",
    "iterations = 10000\n",
    "# Obtain first dataset input and target variables\n",
    "X_BGD = data_aug_df.iloc[:,:2]\n",
    "y_BGD = data_aug_df.iloc[:,2:]\n",
    "# Peform Batch Gradient Descent algorithm\n",
    "costs, theta_ML_2 = LR_BGD(X_BGD.values, y_BGD.values.flatten(), theta, num_iterations=10000\n",
    "                  , learning_rate=0.01, print_cost=True)\n",
    "# Plot cost curve (to check if algorithm is working)\n",
    "plt.xlabel('Number of iterations')\n",
    "plt.ylabel('Cost')\n",
    "plt.title('Change in cost over varying iterations with learning rate {}'.format(learning_rate))\n",
    "plt.plot(np.arange(iterations),costs,'-ro', mec= 'k')\n",
    "plt.legend(['Cost curve']);\n",
    "print('Theta estimates found by batch gradient descent: {}'.format(theta_ML_2))"
   ]
  },
  {
   "cell_type": "markdown",
   "metadata": {},
   "source": [
    "<div class=\"alert alert-warning\">\n",
    "  <strong>Q: What happens with different learning rates?</strong>\n",
    "</div>"
   ]
  },
  {
   "cell_type": "markdown",
   "metadata": {},
   "source": [
    "## Grid Search"
   ]
  },
  {
   "cell_type": "markdown",
   "metadata": {},
   "source": [
    "To understand the cost function $J(\\underline{\\theta})$ better, we will now plot the cost over a 2-dimensional grid of $\\theta_0$ and $\\theta_1$ values. This can provide us with much more accurate estimates, depending on the range of values we scan over and will also provide supporting evidence for previous techniques that we use to find our estimates. The downside to this technique however is that it can become computationally slow as the time complexity is $\\approx O(n^2)$. "
   ]
  },
  {
   "cell_type": "code",
   "execution_count": 91,
   "metadata": {},
   "outputs": [
    {
     "data": {
      "image/png": "[encoded data removed]",
      "text/plain": [
       "<Figure size 864x360 with 2 Axes>"
      ]
     },
     "metadata": {
      "needs_background": "light"
     },
     "output_type": "display_data"
    }
   ],
   "source": [
    "from mpl_toolkits.mplot3d import Axes3D \n",
    "# Grid over which we will calculate J\n",
    "theta0_vals = np.linspace(-10, 10, 100)\n",
    "theta1_vals = np.linspace(-1, 4, 100)\n",
    "# Initialize J_vals to a matrix of 0's\n",
    "J_vals = np.zeros((theta0_vals.shape[0], theta1_vals.shape[0]))\n",
    "# Fill out J_vals via grid search\n",
    "for i, theta0 in enumerate(theta0_vals):\n",
    "    for j, theta1 in enumerate(theta1_vals):\n",
    "        J_vals[i, j] = LR_Cost(X_BGD.values, y_BGD.values, [[theta0], [theta1]])     \n",
    "# Transpose J_vals before calling surf, or else the axes will be flipped\n",
    "J_vals = J_vals.T\n",
    "# Surface plot\n",
    "fig = plt.figure(figsize=(12, 5))\n",
    "ax = fig.add_subplot(121, projection='3d')\n",
    "ax.plot_surface(theta0_vals, theta1_vals, J_vals, cmap='viridis')\n",
    "ax.set_xlabel(r'$\\theta_{0}$')\n",
    "ax.set_ylabel(r'$\\theta_{1}$')\n",
    "ax.set_zlabel(r'$J({\\theta})$')\n",
    "ax.set_title('Surface')\n",
    "# Contour plot J_vals as 15 contours spaced logarithmically between 0.01 and 100\n",
    "ax = plt.subplot(122)\n",
    "plt.contour(theta0_vals, theta1_vals, J_vals, linewidths=2, cmap='viridis', levels=np.logspace(-2, 3, 20))\n",
    "plt.xlabel(r'$\\theta_{0}$')\n",
    "plt.ylabel(r'$\\theta_{1}$')\n",
    "plt.plot(theta_ML_1.flatten()[0], theta_ML_1.flatten()[1], 'ro', ms=5, lw=2)\n",
    "plt.title('Contour, showing minimum');"
   ]
  },
  {
   "cell_type": "markdown",
   "metadata": {},
   "source": [
    "# Summary"
   ]
  },
  {
   "cell_type": "markdown",
   "metadata": {},
   "source": [
    "You have learned... \n",
    "\n",
    "Till next time 😃"
   ]
  },
  {
   "cell_type": "markdown",
   "metadata": {},
   "source": [
    "&copy; *PolyNath 2021.*"
   ]
  }
 ],
 "metadata": {
  "kernelspec": {
   "display_name": "Python 3",
   "language": "python",
   "name": "python3"
  },
  "language_info": {
   "codemirror_mode": {
    "name": "ipython",
    "version": 3
   },
   "file_extension": ".py",
   "mimetype": "text/x-python",
   "name": "python",
   "nbconvert_exporter": "python",
   "pygments_lexer": "ipython3",
   "version": "3.8.5"
  }
 },
 "nbformat": 4,
 "nbformat_minor": 4
}
