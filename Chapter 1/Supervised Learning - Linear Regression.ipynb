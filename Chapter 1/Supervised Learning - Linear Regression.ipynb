{
 "cells": [
  {
   "cell_type": "markdown",
   "id": "6d28c3a7",
   "metadata": {
    "_kg_hide-input": false,
    "papermill": {
     "duration": 0.039572,
     "end_time": "2021-09-01T21:26:40.273940",
     "exception": false,
     "start_time": "2021-09-01T21:26:40.234368",
     "status": "completed"
    },
    "tags": []
   },
   "source": [
    "<center> <h1>📈 Linear Regression 📈 </h1> </center> "
   ]
  },
  {
   "cell_type": "markdown",
   "id": "7b987417",
   "metadata": {
    "papermill": {
     "duration": 0.037314,
     "end_time": "2021-09-01T21:26:40.349712",
     "exception": false,
     "start_time": "2021-09-01T21:26:40.312398",
     "status": "completed"
    },
    "tags": []
   },
   "source": [
    "<p> <center> This notebook is in <span style=\"color: green\"> <b> Active </b> </span> state of development! </center> </p>  \n",
    "<p> <center> Be sure to checkout my other notebooks for <span style=\"color: blue\"> <b> knowledge, insight and laughter </b> </span>! 🧠💡😂</center> </p> "
   ]
  },
  {
   "cell_type": "markdown",
   "id": "37f17fd7",
   "metadata": {
    "execution": {
     "iopub.execute_input": "2021-08-25T22:19:55.892978Z",
     "iopub.status.busy": "2021-08-25T22:19:55.892421Z",
     "iopub.status.idle": "2021-08-25T22:19:55.902473Z",
     "shell.execute_reply": "2021-08-25T22:19:55.900263Z",
     "shell.execute_reply.started": "2021-08-25T22:19:55.892934Z"
    },
    "papermill": {
     "duration": 0.03917,
     "end_time": "2021-09-01T21:26:40.426487",
     "exception": false,
     "start_time": "2021-09-01T21:26:40.387317",
     "status": "completed"
    },
    "tags": []
   },
   "source": [
    "<center> <img src=\"https://www.mihaileric.com/static/linear_regression_joke-9400ea8c70e0500f1934f7a22c86bc68-b75a8.png\" width=\"550\" height=\"550\" /> </center> "
   ]
  },
  {
   "cell_type": "markdown",
   "id": "ebf49438",
   "metadata": {
    "papermill": {
     "duration": 0.037548,
     "end_time": "2021-09-01T21:26:40.502737",
     "exception": false,
     "start_time": "2021-09-01T21:26:40.465189",
     "status": "completed"
    },
    "tags": []
   },
   "source": [
    "<hr style=\"height:2px;border-width:0;color:gray;background-color:gray\">"
   ]
  },
  {
   "cell_type": "markdown",
   "id": "e9f4b9aa",
   "metadata": {
    "papermill": {
     "duration": 0.03749,
     "end_time": "2021-09-01T21:26:40.578276",
     "exception": false,
     "start_time": "2021-09-01T21:26:40.540786",
     "status": "completed"
    },
    "tags": []
   },
   "source": [
    "# Aim"
   ]
  },
  {
   "cell_type": "markdown",
   "id": "70edf293",
   "metadata": {
    "papermill": {
     "duration": 0.037294,
     "end_time": "2021-09-01T21:26:40.653196",
     "exception": false,
     "start_time": "2021-09-01T21:26:40.615902",
     "status": "completed"
    },
    "tags": []
   },
   "source": [
    "The aim is to provide, from scratch, code implementations for linear regression problems. This will involve both the main functions needed to solve a linear regression and some additional utility functions as well.\n",
    "\n",
    "**Note**: We will not be diving into in-depth exploratory data analysis, feature engineering etc... in these notebooks and so will not be commenting extensively on things such as skewness, kurtosis, homoscedasticity etc..."
   ]
  },
  {
   "cell_type": "markdown",
   "id": "3ffa52f7",
   "metadata": {
    "papermill": {
     "duration": 0.044262,
     "end_time": "2021-09-01T21:26:40.735767",
     "exception": false,
     "start_time": "2021-09-01T21:26:40.691505",
     "status": "completed"
    },
    "tags": []
   },
   "source": [
    "<hr style=\"height:2px;border-width:0;color:gray;background-color:gray\">"
   ]
  },
  {
   "cell_type": "markdown",
   "id": "f6a23aa9",
   "metadata": {
    "papermill": {
     "duration": 0.037904,
     "end_time": "2021-09-01T21:26:40.820879",
     "exception": false,
     "start_time": "2021-09-01T21:26:40.782975",
     "status": "completed"
    },
    "tags": []
   },
   "source": [
    "# Background"
   ]
  },
  {
   "cell_type": "markdown",
   "id": "b7add4c1",
   "metadata": {
    "_cell_guid": "b1076dfc-b9ad-4769-8c92-a6c4dae69d19",
    "_kg_hide-input": false,
    "_uuid": "8f2839f25d086af736a60e9eeb907d3b93b6e0e5",
    "papermill": {
     "duration": 0.037396,
     "end_time": "2021-09-01T21:26:40.896089",
     "exception": false,
     "start_time": "2021-09-01T21:26:40.858693",
     "status": "completed"
    },
    "tags": []
   },
   "source": [
    "### 1.\n",
    "\n",
    "For this topic, we consider a linear regression problem. The reason this is called 'linear' regression is not because it is in the form $y = mx + c$ but because the $\\theta_{N}$ are linear combinations in $x$ i.e. $y = \\theta_{0} + \\theta_{1}x_{1} + \\theta_{2}x_{2}$ is linear but $y = \\theta_{0} + \\theta_{1}x_{1}^{\\theta_{2}}$ is not.\n",
    "\n",
    "In general, the data we have will look like:\n",
    "\n",
    "$$\\{x_{1}^{i}, x_{2}^{i}, \\dots, x_{p}^{i}, y^{i}\\}_{i=1}^N$$\n",
    "\n",
    "- $p$ = # of features in the dataset.\n",
    "- $N$ = # of training inputs. \n",
    "\n",
    "Our linear regression problem will be of the form (non-vectorised):\n",
    "\n",
    "$$\n",
    "y = \\underline{\\boldsymbol{x}}^T\\underline{\\boldsymbol\\theta} + \\epsilon = f(\\underline{\\boldsymbol x}, \\underline{\\boldsymbol \\theta}) ,\\quad \\epsilon \\sim \\mathcal N(0, \\sigma^2)\n",
    "$$\n",
    "\n",
    "where $\\underline{\\boldsymbol x}\\in\\mathbb{R}^N$ are inputs and $y\\in\\mathbb{R}$ are noisy observations. The parameter vector $\\underline{\\boldsymbol\\theta}\\in\\mathbb{R}^D$ parametrizes the function i.e. this is what we are trying to estimate."
   ]
  },
  {
   "attachments": {
    "8307e1ae-af5e-4791-8c54-728624876e60.png": {
     "image/png": "[encoded data removed]"
    }
   },
   "cell_type": "markdown",
   "id": "e1b191ca",
   "metadata": {
    "papermill": {
     "duration": 0.038197,
     "end_time": "2021-09-01T21:26:40.971895",
     "exception": false,
     "start_time": "2021-09-01T21:26:40.933698",
     "status": "completed"
    },
    "tags": []
   },
   "source": [
    "![image.png](attachment:8307e1ae-af5e-4791-8c54-728624876e60.png)"
   ]
  },
  {
   "cell_type": "markdown",
   "id": "c5d1852b",
   "metadata": {
    "papermill": {
     "duration": 0.038578,
     "end_time": "2021-09-01T21:26:41.048983",
     "exception": false,
     "start_time": "2021-09-01T21:26:41.010405",
     "status": "completed"
    },
    "tags": []
   },
   "source": [
    "### 2.\n",
    "\n",
    "For every data point $x^{i}$, we will have a corresponding *observation value*. Conventionally, we write the following:\n",
    "\n",
    "\\begin{gather}\n",
    "    \\underline{\\boldsymbol y} = \n",
    "\\begin{bmatrix}\n",
    "  y^1 \\\\ y^2 \\\\ \\dots \\\\ y^N \n",
    "\\end{bmatrix}\n",
    "=\n",
    "\\begin{bmatrix}\n",
    "f(\\boldsymbol x^{1}, \\underline{\\boldsymbol \\theta}) \\\\ f(\\boldsymbol x^{2}, \\underline{\\boldsymbol \\theta}) \\\\ \\dots \\\\ f(\\boldsymbol x^{N}, \\underline{\\boldsymbol \\theta})\n",
    "\\end{bmatrix}\n",
    "\\in \\mathbb{R}^N\n",
    "\\qquad \\text{the outcome/target variable}\n",
    "\\end{gather}\n",
    "\n",
    "where,\n",
    "\n",
    "\\begin{gather}\n",
    "    \\underline{\\boldsymbol x^{i}} = \n",
    "\\begin{bmatrix} \n",
    "x^{i}_{1} \\\\ x^{i}_{2} \\\\ \\dots \\\\ x^{i}_{p}\n",
    "\\end{bmatrix}\n",
    "\\in \\mathbb{R}^p;\\ \\forall i \\in {1,...,N}\n",
    "\\qquad \\text{a feature of the dataset}\n",
    "\\end{gather}\n",
    "\n",
    "Since our aim is to construct a linear regression of $\\boldsymbol{y}$, we can write the observed datapoints as:\n",
    "\n",
    "$$y^{i} = f_{LR}(\\boldsymbol x^{i}, \\underline{\\boldsymbol{\\theta}})= \\theta_{0} + \\theta_{1}x_{1}^{i} \\dots \\theta_{p}x_{p}^{i}; \\ \\forall i= 1,...,N$$\n",
    "\n",
    "**Note:** Python treats row vectors and column vectors the same in computation/dimensions (as they are $1D$ arrays). Hence, this notation is abitrary as we can easily just transpose the column vector and make it into a row vector and rewrite the definition of $\\boldsymbol x^{i}$ i.e. it is by choice how you lay this out but you must make sure to stay consistent in terms of dimension compatibility. \n",
    "\n",
    "Here, the only unknowns are the $\\underline{\\boldsymbol{\\theta}}$. Hence, our goal is to estimate $\\underline{\\boldsymbol{\\theta}}$ i.e. calculate the estimates $\\underline{\\boldsymbol{\\hat \\theta}}$, which we call our **parameters** of the dataset. "
   ]
  },
  {
   "cell_type": "markdown",
   "id": "8872da1d",
   "metadata": {
    "papermill": {
     "duration": 0.038003,
     "end_time": "2021-09-01T21:26:41.125426",
     "exception": false,
     "start_time": "2021-09-01T21:26:41.087423",
     "status": "completed"
    },
    "tags": []
   },
   "source": [
    "### 3.\n",
    "\n",
    "For every data point, we will also have a *predicted value*. Similarly, we write the following:\n",
    "\n",
    "\\begin{gather}\n",
    "    \\underline{\\hat{\\boldsymbol y}} = \n",
    "\\begin{bmatrix}\n",
    "  \\hat y^1 \\\\ \\hat y^2 \\\\ \\dots \\\\ \\hat y^N \n",
    "\\end{bmatrix}\n",
    "=\n",
    "\\begin{bmatrix}\n",
    "f(\\boldsymbol x^{1}, \\underline{\\boldsymbol{\\hat \\theta}}) \\\\ f(\\boldsymbol x^{2}, \\underline{\\boldsymbol{\\hat \\theta}}) \\\\ \\dots \\\\ f(\\boldsymbol x^{N}, \\underline{\\boldsymbol{\\hat \\theta}})\n",
    "\\end{bmatrix}\n",
    "\\in \\mathbb{R}^N\n",
    "\\qquad \\text{the predicted datapoints of $\\boldsymbol{y}$}\n",
    "\\end{gather}\n",
    "\n",
    "Since our aim is to construct a linear regression of $\\boldsymbol{y}$, we can write the predicted datapoints as:\n",
    "\n",
    "$$\\hat y^{i} = f_{LR}(\\boldsymbol x^{i}, \\underline{\\boldsymbol{\\hat\\theta}})= \\hat \\theta_{0} + \\hat \\theta_{1}x_{1}^{i} \\dots \\hat \\theta_{p}x_{p}^{i}; \\ \\forall i= 1,...,N$$"
   ]
  },
  {
   "cell_type": "markdown",
   "id": "cdd275ab",
   "metadata": {
    "papermill": {
     "duration": 0.040523,
     "end_time": "2021-09-01T21:26:41.212353",
     "exception": false,
     "start_time": "2021-09-01T21:26:41.171830",
     "status": "completed"
    },
    "tags": []
   },
   "source": [
    "### 4.\n",
    "\n",
    "Combining all the previous notations, we will write the associated model in the following matrix/vectorised manner:\n",
    "    \n",
    "\\begin{gather}\n",
    "    \\underline{\\boldsymbol{y}}\n",
    "    = Y =\n",
    "\\begin{bmatrix}\n",
    "y^{1} \\\\ \\ y^{2} \\\\ \\dots \\\\  y^{N}\n",
    "\\end{bmatrix}\n",
    "=\n",
    "\\begin{bmatrix}\n",
    "f(\\boldsymbol x^{1}, \\underline{\\boldsymbol{ \\theta}}) \\\\ f(\\boldsymbol x^{2}, \\underline{\\boldsymbol{\\theta}}) \\\\ \\dots \\\\ f(\\boldsymbol x^{N}, \\underline{\\boldsymbol{ \\theta}})\n",
    "\\end{bmatrix}\n",
    "=\n",
    "\\begin{bmatrix}\n",
    "\\theta_{0} + \\theta_{1}x_{1}^{1} \\dots \\theta_{p}x_{p}^{1} \\\\\n",
    "\\theta_{0} + \\theta_{1}x_{1}^{2} \\dots \\theta_{p}x_{p}^{2} \\\\ \\dots \\\\\n",
    "\\theta_{0} + \\theta_{1}x_{1}^{N} \\dots \\theta_{p}x_{p}^{N}\n",
    "\\end{bmatrix}\n",
    "=\n",
    "\\begin{bmatrix}\n",
    "1 & x_{1}^{1} & x_{2}^{1} & \\dots & x_{p}^{1} \\\\\n",
    "1 & x_{1}^{2} & x_{2}^{2} & \\dots & x_{p}^{2} \\\\\n",
    "\\dots  & \\dots  & \\dots  & \\dots & \\dots  \\\\\n",
    "1 & x_{1}^{N} & x_{2}^{N} & \\dots & x_{p}^{N} \n",
    "\\end{bmatrix}\n",
    "\\begin{bmatrix}\n",
    "\\theta_0 \\\\  \\theta_1 \\\\ \\dots \\\\  \\theta_p\n",
    "\\end{bmatrix}\n",
    "= X \\underline{\\boldsymbol{ \\theta}} \n",
    "\\end{gather}\n",
    "\n",
    "where:\n",
    "- $\\boldsymbol{X} \\in \\mathbb{R}^{N \\times (p+1)}$\n",
    "- $\\underline{\\boldsymbol{ \\theta}} \\in \\mathbb{R}^{p+1}$\n",
    "- $\\underline{\\boldsymbol{ y}} \\in \\mathbb{R}^{N}$\n",
    "\n",
    "**Implementation Note:** We store each example as a row in the the $X$ matrix. To take into account the intercept term ($\\hat \\theta_0$), we add an additional first column to $X$ and set it to all ones. This allows us to treat $\\hat \\theta_0$ as simply another 'feature'."
   ]
  },
  {
   "cell_type": "markdown",
   "id": "898c3cd3",
   "metadata": {
    "papermill": {
     "duration": 0.037658,
     "end_time": "2021-09-01T21:26:41.290600",
     "exception": false,
     "start_time": "2021-09-01T21:26:41.252942",
     "status": "completed"
    },
    "tags": []
   },
   "source": [
    "### 5.\n",
    "\n",
    "Mathematically speaking, our estimated parameters $\\hat \\theta_{j}$ are learned/observed after the modelling. \n",
    "\n",
    "Overall, the process is as follows: \n",
    "- We will first be working with the data $\\underline{\\boldsymbol{y}}={X\\underline{\\theta}}$\n",
    "- Once we solve this matrix multiplication problem, we will have calculated $\\underline{\\boldsymbol{\\hat \\theta}} = \\{\\hat \\theta_{j}; \\forall j \\in \\{1,\\dots,p\\}\\}$ \n",
    "- We can then substitute all $\\hat \\theta_{j}'s$ back into $\\underline{\\boldsymbol{y}}={X\\underline{\\theta}}$  to give us $\\underline{\\boldsymbol{\\hat y}} = {X\\underline{\\hat \\theta}}$\n",
    "\n",
    "We can measure the quality of our $\\underline{\\boldsymbol{\\hat \\theta}}$ parameters by minimising the total residual error i.e. sum of the difference between predictions and observations, which is $\\underline{\\boldsymbol{y}}-\\underline{\\boldsymbol{\\hat y}} := \\underline{\\boldsymbol{e}} $. (This will later be constructed into a cost function that we will record). "
   ]
  },
  {
   "cell_type": "markdown",
   "id": "214c75a1",
   "metadata": {
    "papermill": {
     "duration": 0.037417,
     "end_time": "2021-09-01T21:26:41.365783",
     "exception": false,
     "start_time": "2021-09-01T21:26:41.328366",
     "status": "completed"
    },
    "tags": []
   },
   "source": [
    "<hr style=\"height:2px;border-width:0;color:gray;background-color:gray\">"
   ]
  },
  {
   "cell_type": "markdown",
   "id": "73d7e303",
   "metadata": {
    "_kg_hide-input": false,
    "papermill": {
     "duration": 0.037725,
     "end_time": "2021-09-01T21:26:41.441225",
     "exception": false,
     "start_time": "2021-09-01T21:26:41.403500",
     "status": "completed"
    },
    "tags": []
   },
   "source": [
    "## Import Modules"
   ]
  },
  {
   "cell_type": "code",
   "execution_count": 1,
   "id": "ecae1ae8",
   "metadata": {
    "_kg_hide-input": false,
    "execution": {
     "iopub.execute_input": "2021-09-01T21:26:41.521147Z",
     "iopub.status.busy": "2021-09-01T21:26:41.519976Z",
     "iopub.status.idle": "2021-09-01T21:26:42.637808Z",
     "shell.execute_reply": "2021-09-01T21:26:42.636474Z",
     "shell.execute_reply.started": "2021-08-28T16:50:30.818071Z"
    },
    "papermill": {
     "duration": 1.15899,
     "end_time": "2021-09-01T21:26:42.638003",
     "exception": false,
     "start_time": "2021-09-01T21:26:41.479013",
     "status": "completed"
    },
    "tags": []
   },
   "outputs": [],
   "source": [
    "# Importing standard packages\n",
    "import numpy as np\n",
    "import pandas as pd\n",
    "import matplotlib.pyplot as plt\n",
    "import seaborn as sns\n",
    "from sklearn.model_selection import train_test_split\n",
    "from sklearn.metrics import r2_score"
   ]
  },
  {
   "cell_type": "markdown",
   "id": "51af9f22",
   "metadata": {
    "papermill": {
     "duration": 0.042732,
     "end_time": "2021-09-01T21:26:42.718995",
     "exception": false,
     "start_time": "2021-09-01T21:26:42.676263",
     "status": "completed"
    },
    "tags": []
   },
   "source": [
    "# Data Collection"
   ]
  },
  {
   "cell_type": "code",
   "execution_count": 2,
   "id": "499e2621",
   "metadata": {
    "execution": {
     "iopub.execute_input": "2021-09-01T21:26:42.823161Z",
     "iopub.status.busy": "2021-09-01T21:26:42.822496Z",
     "iopub.status.idle": "2021-09-01T21:26:42.855079Z",
     "shell.execute_reply": "2021-09-01T21:26:42.854506Z",
     "shell.execute_reply.started": "2021-08-28T16:50:30.82532Z"
    },
    "papermill": {
     "duration": 0.087108,
     "end_time": "2021-09-01T21:26:42.855232",
     "exception": false,
     "start_time": "2021-09-01T21:26:42.768124",
     "status": "completed"
    },
    "tags": []
   },
   "outputs": [],
   "source": [
    "# Import training and test set \n",
    "df_train = pd.read_csv('../input/random-linear-regression/train.csv')\n",
    "df_test = pd.read_csv('../input/random-linear-regression/test.csv')"
   ]
  },
  {
   "cell_type": "markdown",
   "id": "4b4434a4",
   "metadata": {
    "papermill": {
     "duration": 0.037627,
     "end_time": "2021-09-01T21:26:42.931093",
     "exception": false,
     "start_time": "2021-09-01T21:26:42.893466",
     "status": "completed"
    },
    "tags": []
   },
   "source": [
    "# Data Processing"
   ]
  },
  {
   "cell_type": "code",
   "execution_count": 3,
   "id": "fc149d69",
   "metadata": {
    "execution": {
     "iopub.execute_input": "2021-09-01T21:26:43.015754Z",
     "iopub.status.busy": "2021-09-01T21:26:43.014788Z",
     "iopub.status.idle": "2021-09-01T21:26:43.017222Z",
     "shell.execute_reply": "2021-09-01T21:26:43.017750Z",
     "shell.execute_reply.started": "2021-08-28T16:50:30.850743Z"
    },
    "papermill": {
     "duration": 0.049137,
     "end_time": "2021-09-01T21:26:43.017968",
     "exception": false,
     "start_time": "2021-09-01T21:26:42.968831",
     "status": "completed"
    },
    "tags": []
   },
   "outputs": [],
   "source": [
    "# Join train and test set into one dataframe \n",
    "df = pd.concat((df_train, df_test), axis=0).reset_index(drop=True)"
   ]
  },
  {
   "cell_type": "code",
   "execution_count": 4,
   "id": "2262a9be",
   "metadata": {
    "execution": {
     "iopub.execute_input": "2021-09-01T21:26:43.116276Z",
     "iopub.status.busy": "2021-09-01T21:26:43.115455Z",
     "iopub.status.idle": "2021-09-01T21:26:43.119859Z",
     "shell.execute_reply": "2021-09-01T21:26:43.119257Z",
     "shell.execute_reply.started": "2021-08-28T16:50:30.858957Z"
    },
    "papermill": {
     "duration": 0.063885,
     "end_time": "2021-09-01T21:26:43.120007",
     "exception": false,
     "start_time": "2021-09-01T21:26:43.056122",
     "status": "completed"
    },
    "tags": []
   },
   "outputs": [
    {
     "name": "stdout",
     "output_type": "stream",
     "text": [
      "<class 'pandas.core.frame.DataFrame'>\n",
      "RangeIndex: 1000 entries, 0 to 999\n",
      "Data columns (total 2 columns):\n",
      " #   Column  Non-Null Count  Dtype  \n",
      "---  ------  --------------  -----  \n",
      " 0   x       1000 non-null   float64\n",
      " 1   y       999 non-null    float64\n",
      "dtypes: float64(2)\n",
      "memory usage: 15.8 KB\n"
     ]
    }
   ],
   "source": [
    "# Check for Nulls and dtype of dataframe\n",
    "df.info()"
   ]
  },
  {
   "cell_type": "code",
   "execution_count": 5,
   "id": "3ffd9259",
   "metadata": {
    "execution": {
     "iopub.execute_input": "2021-09-01T21:26:43.208403Z",
     "iopub.status.busy": "2021-09-01T21:26:43.207488Z",
     "iopub.status.idle": "2021-09-01T21:26:43.211877Z",
     "shell.execute_reply": "2021-09-01T21:26:43.211292Z",
     "shell.execute_reply.started": "2021-08-28T16:50:30.879241Z"
    },
    "papermill": {
     "duration": 0.052561,
     "end_time": "2021-09-01T21:26:43.212026",
     "exception": false,
     "start_time": "2021-09-01T21:26:43.159465",
     "status": "completed"
    },
    "tags": []
   },
   "outputs": [
    {
     "data": {
      "text/plain": [
       "x    0\n",
       "y    1\n",
       "dtype: int64"
      ]
     },
     "execution_count": 5,
     "metadata": {},
     "output_type": "execute_result"
    }
   ],
   "source": [
    "# Check for NaNs\n",
    "df.isna().sum()"
   ]
  },
  {
   "cell_type": "code",
   "execution_count": 6,
   "id": "c28ab484",
   "metadata": {
    "execution": {
     "iopub.execute_input": "2021-09-01T21:26:43.294336Z",
     "iopub.status.busy": "2021-09-01T21:26:43.293633Z",
     "iopub.status.idle": "2021-09-01T21:26:43.299964Z",
     "shell.execute_reply": "2021-09-01T21:26:43.299349Z",
     "shell.execute_reply.started": "2021-08-28T16:52:11.493857Z"
    },
    "papermill": {
     "duration": 0.049151,
     "end_time": "2021-09-01T21:26:43.300101",
     "exception": false,
     "start_time": "2021-09-01T21:26:43.250950",
     "status": "completed"
    },
    "tags": []
   },
   "outputs": [
    {
     "data": {
      "text/plain": [
       "0"
      ]
     },
     "execution_count": 6,
     "metadata": {},
     "output_type": "execute_result"
    }
   ],
   "source": [
    "# Check for duplicates\n",
    "df.duplicated().sum()"
   ]
  },
  {
   "cell_type": "markdown",
   "id": "87e1981f",
   "metadata": {
    "papermill": {
     "duration": 0.038692,
     "end_time": "2021-09-01T21:26:43.378679",
     "exception": false,
     "start_time": "2021-09-01T21:26:43.339987",
     "status": "completed"
    },
    "tags": []
   },
   "source": [
    "**Note:** Make sure that you do not remove lots of datapoints due to the NaN or missing value issues. It may be better to impute them."
   ]
  },
  {
   "cell_type": "code",
   "execution_count": 7,
   "id": "fc952af3",
   "metadata": {
    "execution": {
     "iopub.execute_input": "2021-09-01T21:26:43.463437Z",
     "iopub.status.busy": "2021-09-01T21:26:43.462793Z",
     "iopub.status.idle": "2021-09-01T21:26:43.482466Z",
     "shell.execute_reply": "2021-09-01T21:26:43.481882Z",
     "shell.execute_reply.started": "2021-08-28T16:50:30.893765Z"
    },
    "papermill": {
     "duration": 0.064773,
     "end_time": "2021-09-01T21:26:43.482634",
     "exception": false,
     "start_time": "2021-09-01T21:26:43.417861",
     "status": "completed"
    },
    "tags": []
   },
   "outputs": [],
   "source": [
    "# Drop NaNs and duplicates\n",
    "df = df.dropna().drop_duplicates()"
   ]
  },
  {
   "cell_type": "code",
   "execution_count": 8,
   "id": "e246345e",
   "metadata": {
    "execution": {
     "iopub.execute_input": "2021-09-01T21:26:43.569253Z",
     "iopub.status.busy": "2021-09-01T21:26:43.568467Z",
     "iopub.status.idle": "2021-09-01T21:26:43.585762Z",
     "shell.execute_reply": "2021-09-01T21:26:43.586297Z",
     "shell.execute_reply.started": "2021-08-28T16:50:30.929215Z"
    },
    "papermill": {
     "duration": 0.064829,
     "end_time": "2021-09-01T21:26:43.586466",
     "exception": false,
     "start_time": "2021-09-01T21:26:43.521637",
     "status": "completed"
    },
    "tags": []
   },
   "outputs": [
    {
     "data": {
      "text/html": [
       "<div>\n",
       "<style scoped>\n",
       "    .dataframe tbody tr th:only-of-type {\n",
       "        vertical-align: middle;\n",
       "    }\n",
       "\n",
       "    .dataframe tbody tr th {\n",
       "        vertical-align: top;\n",
       "    }\n",
       "\n",
       "    .dataframe thead th {\n",
       "        text-align: right;\n",
       "    }\n",
       "</style>\n",
       "<table border=\"1\" class=\"dataframe\">\n",
       "  <thead>\n",
       "    <tr style=\"text-align: right;\">\n",
       "      <th></th>\n",
       "      <th>x</th>\n",
       "      <th>y</th>\n",
       "    </tr>\n",
       "  </thead>\n",
       "  <tbody>\n",
       "    <tr>\n",
       "      <th>count</th>\n",
       "      <td>999.000000</td>\n",
       "      <td>999.000000</td>\n",
       "    </tr>\n",
       "    <tr>\n",
       "      <th>mean</th>\n",
       "      <td>50.291291</td>\n",
       "      <td>50.319804</td>\n",
       "    </tr>\n",
       "    <tr>\n",
       "      <th>std</th>\n",
       "      <td>28.808925</td>\n",
       "      <td>29.089111</td>\n",
       "    </tr>\n",
       "    <tr>\n",
       "      <th>min</th>\n",
       "      <td>0.000000</td>\n",
       "      <td>-3.839981</td>\n",
       "    </tr>\n",
       "    <tr>\n",
       "      <th>25%</th>\n",
       "      <td>25.000000</td>\n",
       "      <td>25.185430</td>\n",
       "    </tr>\n",
       "    <tr>\n",
       "      <th>50%</th>\n",
       "      <td>50.000000</td>\n",
       "      <td>49.926397</td>\n",
       "    </tr>\n",
       "    <tr>\n",
       "      <th>75%</th>\n",
       "      <td>74.500000</td>\n",
       "      <td>74.475252</td>\n",
       "    </tr>\n",
       "    <tr>\n",
       "      <th>max</th>\n",
       "      <td>100.000000</td>\n",
       "      <td>108.871618</td>\n",
       "    </tr>\n",
       "  </tbody>\n",
       "</table>\n",
       "</div>"
      ],
      "text/plain": [
       "                x           y\n",
       "count  999.000000  999.000000\n",
       "mean    50.291291   50.319804\n",
       "std     28.808925   29.089111\n",
       "min      0.000000   -3.839981\n",
       "25%     25.000000   25.185430\n",
       "50%     50.000000   49.926397\n",
       "75%     74.500000   74.475252\n",
       "max    100.000000  108.871618"
      ]
     },
     "execution_count": 8,
     "metadata": {},
     "output_type": "execute_result"
    }
   ],
   "source": [
    "# Overall statistics\n",
    "df.describe()"
   ]
  },
  {
   "cell_type": "markdown",
   "id": "ad55afda",
   "metadata": {
    "papermill": {
     "duration": 0.038974,
     "end_time": "2021-09-01T21:26:43.665078",
     "exception": false,
     "start_time": "2021-09-01T21:26:43.626104",
     "status": "completed"
    },
    "tags": []
   },
   "source": [
    "# Data Visualisations"
   ]
  },
  {
   "cell_type": "code",
   "execution_count": 9,
   "id": "0a964633",
   "metadata": {
    "execution": {
     "iopub.execute_input": "2021-09-01T21:26:43.746975Z",
     "iopub.status.busy": "2021-09-01T21:26:43.746359Z",
     "iopub.status.idle": "2021-09-01T21:26:43.961789Z",
     "shell.execute_reply": "2021-09-01T21:26:43.961183Z",
     "shell.execute_reply.started": "2021-08-28T16:50:30.956032Z"
    },
    "papermill": {
     "duration": 0.257544,
     "end_time": "2021-09-01T21:26:43.961947",
     "exception": false,
     "start_time": "2021-09-01T21:26:43.704403",
     "status": "completed"
    },
    "tags": []
   },
   "outputs": [
    {
     "data": {
      "image/png": "[encoded data removed]",
      "text/plain": [
       "<Figure size 432x288 with 2 Axes>"
      ]
     },
     "metadata": {
      "needs_background": "light"
     },
     "output_type": "display_data"
    }
   ],
   "source": [
    "# Check for correlation\n",
    "sns.heatmap(df.corr(), annot = True, cmap=\"tab20c\");"
   ]
  },
  {
   "cell_type": "markdown",
   "id": "6e472dce",
   "metadata": {
    "papermill": {
     "duration": 0.039723,
     "end_time": "2021-09-01T21:26:44.042333",
     "exception": false,
     "start_time": "2021-09-01T21:26:44.002610",
     "status": "completed"
    },
    "tags": []
   },
   "source": [
    "A value of 1 (positive) suggests to us that there is an exact correlative match between the feature and the target variable and so a linear regression is a perfect fit for this dataset."
   ]
  },
  {
   "cell_type": "code",
   "execution_count": 10,
   "id": "52c3c845",
   "metadata": {
    "execution": {
     "iopub.execute_input": "2021-09-01T21:26:44.156053Z",
     "iopub.status.busy": "2021-09-01T21:26:44.146441Z",
     "iopub.status.idle": "2021-09-01T21:26:44.304762Z",
     "shell.execute_reply": "2021-09-01T21:26:44.304162Z",
     "shell.execute_reply.started": "2021-08-28T16:50:31.185104Z"
    },
    "papermill": {
     "duration": 0.222269,
     "end_time": "2021-09-01T21:26:44.304890",
     "exception": false,
     "start_time": "2021-09-01T21:26:44.082621",
     "status": "completed"
    },
    "tags": []
   },
   "outputs": [
    {
     "data": {
      "image/png": "[encoded data removed]",
      "text/plain": [
       "<Figure size 432x288 with 1 Axes>"
      ]
     },
     "metadata": {
      "needs_background": "light"
     },
     "output_type": "display_data"
    }
   ],
   "source": [
    "# Plot data\n",
    "plt.xlabel('x')\n",
    "plt.ylabel('y')\n",
    "plt.title('Relationship between x and y')\n",
    "plt.plot(df.iloc[:,0],df.iloc[:,1],'ro', mec= 'k');\n",
    "plt.legend(['Dataset']);"
   ]
  },
  {
   "cell_type": "markdown",
   "id": "976145e5",
   "metadata": {
    "papermill": {
     "duration": 0.040624,
     "end_time": "2021-09-01T21:26:44.386742",
     "exception": false,
     "start_time": "2021-09-01T21:26:44.346118",
     "status": "completed"
    },
    "tags": []
   },
   "source": [
    "## Splitting dataset"
   ]
  },
  {
   "cell_type": "markdown",
   "id": "e643e9a8",
   "metadata": {
    "papermill": {
     "duration": 0.041456,
     "end_time": "2021-09-01T21:26:44.469014",
     "exception": false,
     "start_time": "2021-09-01T21:26:44.427558",
     "status": "completed"
    },
    "tags": []
   },
   "source": [
    "For most machine learning models, we would like them to have low bias and low variance - that is, the model should perform well on the training set (low bias) and also the test set, alongside with other new random test sets (low variance). Therefore, to test for bias and variance of our model, we shall split the dataset into training and test set. We will not be tuning any hyperparameters (and thus do not need a validation set). \n",
    "\n",
    "For these functions, the $X$ dataset (of features) should have a column 1's as the first column to account for the bias term/intercept co-efficient. Before this occurs, one should check the order of magnitude of the features - if they differ hugely, one must apply feature scaling before calculating the MSE (this is not needed to run the normal equations however), so that our data is somewhat normally distributed."
   ]
  },
  {
   "cell_type": "code",
   "execution_count": 11,
   "id": "db43453e",
   "metadata": {
    "execution": {
     "iopub.execute_input": "2021-09-01T21:26:44.556441Z",
     "iopub.status.busy": "2021-09-01T21:26:44.555759Z",
     "iopub.status.idle": "2021-09-01T21:26:44.558293Z",
     "shell.execute_reply": "2021-09-01T21:26:44.558763Z",
     "shell.execute_reply.started": "2021-08-28T16:50:31.367374Z"
    },
    "papermill": {
     "duration": 0.048936,
     "end_time": "2021-09-01T21:26:44.558950",
     "exception": false,
     "start_time": "2021-09-01T21:26:44.510014",
     "status": "completed"
    },
    "tags": []
   },
   "outputs": [],
   "source": [
    "# Separate features and target variable\n",
    "X = df.iloc[:,:-1]\n",
    "y = df.iloc[:,1]"
   ]
  },
  {
   "cell_type": "code",
   "execution_count": 12,
   "id": "93b5f2fc",
   "metadata": {
    "execution": {
     "iopub.execute_input": "2021-09-01T21:26:44.648616Z",
     "iopub.status.busy": "2021-09-01T21:26:44.647840Z",
     "iopub.status.idle": "2021-09-01T21:26:44.652206Z",
     "shell.execute_reply": "2021-09-01T21:26:44.652640Z",
     "shell.execute_reply.started": "2021-08-28T16:50:31.374533Z"
    },
    "papermill": {
     "duration": 0.052565,
     "end_time": "2021-09-01T21:26:44.652805",
     "exception": false,
     "start_time": "2021-09-01T21:26:44.600240",
     "status": "completed"
    },
    "tags": []
   },
   "outputs": [],
   "source": [
    "# Split the dataset into training and test set\n",
    "X_train, X_test, y_train, y_test = train_test_split(X, y, test_size=1/4, random_state=42)\n",
    "# Re-index\n",
    "X_train = X_train.reset_index(drop=True) \n",
    "y_train = y_train.reset_index(drop=True) \n",
    "X_test = X_test.reset_index(drop=True) \n",
    "y_test = y_test.reset_index(drop=True) "
   ]
  },
  {
   "cell_type": "code",
   "execution_count": 13,
   "id": "4d3eeccd",
   "metadata": {
    "execution": {
     "iopub.execute_input": "2021-09-01T21:26:44.743804Z",
     "iopub.status.busy": "2021-09-01T21:26:44.743181Z",
     "iopub.status.idle": "2021-09-01T21:26:44.746281Z",
     "shell.execute_reply": "2021-09-01T21:26:44.745741Z",
     "shell.execute_reply.started": "2021-08-28T16:50:31.387716Z"
    },
    "papermill": {
     "duration": 0.052317,
     "end_time": "2021-09-01T21:26:44.746420",
     "exception": false,
     "start_time": "2021-09-01T21:26:44.694103",
     "status": "completed"
    },
    "tags": []
   },
   "outputs": [],
   "source": [
    "# Add ones to the dataframes\n",
    "m,n = X_train.values.shape\n",
    "o,p = X_test.values.shape\n",
    "X_train = pd.concat((pd.DataFrame(np.ones((m, 1)), columns= ['Bias']),X_train),axis=1)\n",
    "X_test = pd.concat((pd.DataFrame(np.ones((o, 1)), columns= ['Bias']),X_test),axis=1)"
   ]
  },
  {
   "cell_type": "markdown",
   "id": "06dfb724",
   "metadata": {
    "papermill": {
     "duration": 0.041086,
     "end_time": "2021-09-01T21:26:44.828831",
     "exception": false,
     "start_time": "2021-09-01T21:26:44.787745",
     "status": "completed"
    },
    "tags": []
   },
   "source": [
    "# Cost Function"
   ]
  },
  {
   "cell_type": "markdown",
   "id": "ac81d856",
   "metadata": {
    "papermill": {
     "duration": 0.041283,
     "end_time": "2021-09-01T21:26:44.911369",
     "exception": false,
     "start_time": "2021-09-01T21:26:44.870086",
     "status": "completed"
    },
    "tags": []
   },
   "source": [
    "The least squares finds a solution that minimises the mean squred error of our linear regression model. This happens to also be equivalently known as the Linear Regression Cost Function. \n",
    "    \n",
    "<br>\n",
    "The cost function, is defined as (in non-matrix vector form):\n",
    "\n",
    "$$ MSE_{Linear} = J({\\boldsymbol \\theta}) = \\frac{1}{N} \\sum_{i=1}^N \\left( \\hat y - y^{(i)}\\right)^2$$\n",
    "\n",
    "This can also be written as (in matrix vector form):\n",
    "\n",
    "$$ MSE_{Linear} = J({\\boldsymbol \\theta}) = \\frac{1}{m}[(y - X {\\boldsymbol \\theta})^T (y - X {\\boldsymbol \\theta})]$$\n",
    "\n",
    "Thus, we seek:\n",
    "\n",
    "$$\n",
    "\\underline{\\boldsymbol{\\hat \\theta}} = \\{\\underline{\\boldsymbol \\theta} : \n",
    "\\underset{\\underline{\\boldsymbol\\theta}}{\\text{min}}\\ {J(\\theta)}\\}\n",
    "$$"
   ]
  },
  {
   "cell_type": "code",
   "execution_count": 14,
   "id": "3def1e85",
   "metadata": {
    "execution": {
     "iopub.execute_input": "2021-09-01T21:26:45.000731Z",
     "iopub.status.busy": "2021-09-01T21:26:45.000077Z",
     "iopub.status.idle": "2021-09-01T21:26:45.002543Z",
     "shell.execute_reply": "2021-09-01T21:26:45.001959Z",
     "shell.execute_reply.started": "2021-08-28T16:50:31.399346Z"
    },
    "papermill": {
     "duration": 0.050027,
     "end_time": "2021-09-01T21:26:45.002686",
     "exception": false,
     "start_time": "2021-09-01T21:26:44.952659",
     "status": "completed"
    },
    "tags": []
   },
   "outputs": [],
   "source": [
    "def LR_Cost(X: pd.DataFrame, y: pd.Series, theta: np.array) -> float:\n",
    "\n",
    "    \"\"\" Return the Mean Squared Error of a linear regression model using vectorised notation. \"\"\"\n",
    "\n",
    "    # Retrieve feature dimensions\n",
    "    m, n = X.shape \n",
    "    # Calculate error \n",
    "    residual = y - X @ theta\n",
    "    # Calculate Cost Function \n",
    "    CF_LR = (1/m) * (residual.T @ residual)\n",
    "    # Return Cost Function\n",
    "    return CF_LR"
   ]
  },
  {
   "cell_type": "markdown",
   "id": "8eefffc5",
   "metadata": {
    "papermill": {
     "duration": 0.040664,
     "end_time": "2021-09-01T21:26:45.084459",
     "exception": false,
     "start_time": "2021-09-01T21:26:45.043795",
     "status": "completed"
    },
    "tags": []
   },
   "source": [
    "# Theta/Co-efficient Estimates"
   ]
  },
  {
   "cell_type": "markdown",
   "id": "dcf14f99",
   "metadata": {
    "papermill": {
     "duration": 0.040692,
     "end_time": "2021-09-01T21:26:45.166039",
     "exception": false,
     "start_time": "2021-09-01T21:26:45.125347",
     "status": "completed"
    },
    "tags": []
   },
   "source": [
    "Finding the least squares solution to the linear cost function/MSE can be done via multivariable differentiation techniques. Instead, we will look at the equivalent form; that is, using maximum likelihood estimation, we find the parameters $\\boldsymbol\\theta^{\\mathrm{ML}}$ that maximises the likelihood of our linear regression model:\n",
    "    \n",
    "$$\n",
    "p(\\mathcal Y | \\mathcal X, \\boldsymbol\\theta) = \\prod_{n=1}^N p(y_n | \\boldsymbol x_n, \\boldsymbol{{\\theta}})\\,\n",
    "$$\n",
    "We know that the maximum likelihood estimator is given by:\n",
    "    \n",
    "$$\n",
    "\\boldsymbol{\\theta}^{\\text{ML}} = (\\boldsymbol X^T\\boldsymbol X)^{-1}\\boldsymbol X^T\\boldsymbol y \\, \n",
    "$$\n",
    "<br>\n",
    "which yields us the same answers as the derivation from differentiation of the matrix vector MSE form. "
   ]
  },
  {
   "cell_type": "code",
   "execution_count": 15,
   "id": "6c129c4b",
   "metadata": {
    "execution": {
     "iopub.execute_input": "2021-09-01T21:26:45.253628Z",
     "iopub.status.busy": "2021-09-01T21:26:45.252827Z",
     "iopub.status.idle": "2021-09-01T21:26:45.254560Z",
     "shell.execute_reply": "2021-09-01T21:26:45.255011Z",
     "shell.execute_reply.started": "2021-08-28T16:50:31.409823Z"
    },
    "papermill": {
     "duration": 0.047945,
     "end_time": "2021-09-01T21:26:45.255185",
     "exception": false,
     "start_time": "2021-09-01T21:26:45.207240",
     "status": "completed"
    },
    "tags": []
   },
   "outputs": [],
   "source": [
    "def LS_NE(X: pd.DataFrame, y: pd.Series) -> np.array:\n",
    "    \n",
    "    \"\"\" Return the maximum likelihood estimate from the normal equations as this maximises the likelihood of the linear regression model. \"\"\"\n",
    "\n",
    "    # Calculate estimator theta\n",
    "    return np.linalg.solve((X.T @ X), X.T @ y)"
   ]
  },
  {
   "cell_type": "markdown",
   "id": "f33a6c85",
   "metadata": {
    "papermill": {
     "duration": 0.04435,
     "end_time": "2021-09-01T21:26:45.341079",
     "exception": false,
     "start_time": "2021-09-01T21:26:45.296729",
     "status": "completed"
    },
    "tags": []
   },
   "source": [
    "# Regression Predictions"
   ]
  },
  {
   "cell_type": "code",
   "execution_count": 16,
   "id": "3e41877c",
   "metadata": {
    "execution": {
     "iopub.execute_input": "2021-09-01T21:26:45.426192Z",
     "iopub.status.busy": "2021-09-01T21:26:45.425523Z",
     "iopub.status.idle": "2021-09-01T21:26:45.429509Z",
     "shell.execute_reply": "2021-09-01T21:26:45.430075Z",
     "shell.execute_reply.started": "2021-08-28T16:50:31.423724Z"
    },
    "papermill": {
     "duration": 0.048129,
     "end_time": "2021-09-01T21:26:45.430256",
     "exception": false,
     "start_time": "2021-09-01T21:26:45.382127",
     "status": "completed"
    },
    "tags": []
   },
   "outputs": [],
   "source": [
    "def predict(X: pd.DataFrame, theta_estimate: np.array) -> pd.Series:\n",
    "    \n",
    "    \"\"\" Return model predictions. \"\"\"\n",
    "\n",
    "    return X @ theta_estimate"
   ]
  },
  {
   "cell_type": "markdown",
   "id": "4e6ba645",
   "metadata": {
    "papermill": {
     "duration": 0.041106,
     "end_time": "2021-09-01T21:26:45.513291",
     "exception": false,
     "start_time": "2021-09-01T21:26:45.472185",
     "status": "completed"
    },
    "tags": []
   },
   "source": [
    "# Full Linear Regression Model"
   ]
  },
  {
   "cell_type": "code",
   "execution_count": 17,
   "id": "11bb5a8a",
   "metadata": {
    "execution": {
     "iopub.execute_input": "2021-09-01T21:26:45.599938Z",
     "iopub.status.busy": "2021-09-01T21:26:45.599264Z",
     "iopub.status.idle": "2021-09-01T21:26:45.607188Z",
     "shell.execute_reply": "2021-09-01T21:26:45.607664Z",
     "shell.execute_reply.started": "2021-08-28T16:50:31.434304Z"
    },
    "papermill": {
     "duration": 0.052371,
     "end_time": "2021-09-01T21:26:45.607843",
     "exception": false,
     "start_time": "2021-09-01T21:26:45.555472",
     "status": "completed"
    },
    "tags": []
   },
   "outputs": [],
   "source": [
    "class LinearRegression():\n",
    "    \n",
    "    def __init__(self):\n",
    "        \n",
    "        \"\"\" Initialise parameters. \"\"\"\n",
    "        \n",
    "        self.theta = None\n",
    "    \n",
    "    def fit(self, X: pd.DataFrame, y: pd.Series) -> np.array:\n",
    "    \n",
    "        \"\"\" Return the maximum likelihood estimate from the normal equations as this maximises the likelihood of the linear regression model. \"\"\"\n",
    "\n",
    "        # Calculate estimator theta\n",
    "        self.theta = np.linalg.solve((X.T @ X), X.T @ y)\n",
    "\n",
    "    def predict(self, X: pd.DataFrame) -> pd.Series:\n",
    "    \n",
    "        \"\"\" Return model predictions. \"\"\"\n",
    "\n",
    "        y_pred = X @ self.theta\n",
    "        # Return predictions\n",
    "        return y_pred\n",
    "    \n",
    "    def LR_Cost(self, X: pd.DataFrame, y: pd.Series) -> float:\n",
    "\n",
    "        \"\"\" Return the Mean Squared Error of a linear regression model using vectorised notation. \"\"\"\n",
    "\n",
    "        # Retrieve feature dimensions\n",
    "        m, n = X.shape \n",
    "        # Calculate error \n",
    "        residual = y - X @ self.theta\n",
    "        # Calculate Cost Function \n",
    "        CF_LR = (1/m) * (residual.T @ residual)\n",
    "        # Return Cost Function\n",
    "        return CF_LR"
   ]
  },
  {
   "cell_type": "markdown",
   "id": "d5cac725",
   "metadata": {
    "papermill": {
     "duration": 0.040561,
     "end_time": "2021-09-01T21:26:45.689810",
     "exception": false,
     "start_time": "2021-09-01T21:26:45.649249",
     "status": "completed"
    },
    "tags": []
   },
   "source": [
    "# Model Testing and Results"
   ]
  },
  {
   "cell_type": "code",
   "execution_count": 18,
   "id": "12c7e49e",
   "metadata": {
    "execution": {
     "iopub.execute_input": "2021-09-01T21:26:45.774833Z",
     "iopub.status.busy": "2021-09-01T21:26:45.774242Z",
     "iopub.status.idle": "2021-09-01T21:26:45.778245Z",
     "shell.execute_reply": "2021-09-01T21:26:45.777626Z",
     "shell.execute_reply.started": "2021-08-28T16:50:31.445824Z"
    },
    "papermill": {
     "duration": 0.047582,
     "end_time": "2021-09-01T21:26:45.778375",
     "exception": false,
     "start_time": "2021-09-01T21:26:45.730793",
     "status": "completed"
    },
    "tags": []
   },
   "outputs": [],
   "source": [
    "# Instantiate model\n",
    "pop_prof_model = LinearRegression()"
   ]
  },
  {
   "cell_type": "code",
   "execution_count": 19,
   "id": "9130f224",
   "metadata": {
    "execution": {
     "iopub.execute_input": "2021-09-01T21:26:45.870292Z",
     "iopub.status.busy": "2021-09-01T21:26:45.869251Z",
     "iopub.status.idle": "2021-09-01T21:26:45.879857Z",
     "shell.execute_reply": "2021-09-01T21:26:45.880480Z",
     "shell.execute_reply.started": "2021-08-28T16:50:31.456729Z"
    },
    "papermill": {
     "duration": 0.060501,
     "end_time": "2021-09-01T21:26:45.880642",
     "exception": false,
     "start_time": "2021-09-01T21:26:45.820141",
     "status": "completed"
    },
    "tags": []
   },
   "outputs": [
    {
     "name": "stdout",
     "output_type": "stream",
     "text": [
      "Theta estimates are: [-0.29654476  1.00523472]\n",
      "Training dataset mean squared error: 8.088375976934048\n",
      "Test dataset mean squared error: 9.003332816736535\n",
      "Train dataset R2 score: 0.9904790394652241\n",
      "Test dataset R2 score: 0.9891879937675698\n"
     ]
    }
   ],
   "source": [
    "# Fit model to training dataset to obtain estimates\n",
    "pop_prof_model.fit(X_train, y_train)\n",
    "# Obtain predictions for training and test dataset\n",
    "y_pred_train = pop_prof_model.predict(X_train)\n",
    "y_pred_test = pop_prof_model.predict(X_test)\n",
    "# Calculate MSE and R2 score on training and test dataset\n",
    "MSE_train = pop_prof_model.LR_Cost(X_train, y_train)\n",
    "MSE_test = pop_prof_model.LR_Cost(X_test, y_test)\n",
    "print(\"Theta estimates are: {}\".format(pop_prof_model.theta))\n",
    "print(\"Training dataset mean squared error: {}\".format(MSE_train))\n",
    "print(\"Test dataset mean squared error: {}\".format(MSE_test))\n",
    "print(\"Train dataset R2 score: {}\".format(r2_score(y_train,y_pred_train)))\n",
    "print(\"Test dataset R2 score: {}\".format(r2_score(y_test,y_pred_test)))"
   ]
  },
  {
   "cell_type": "code",
   "execution_count": 20,
   "id": "c5f4b386",
   "metadata": {
    "execution": {
     "iopub.execute_input": "2021-09-01T21:26:45.998221Z",
     "iopub.status.busy": "2021-09-01T21:26:45.987312Z",
     "iopub.status.idle": "2021-09-01T21:26:46.154741Z",
     "shell.execute_reply": "2021-09-01T21:26:46.154130Z",
     "shell.execute_reply.started": "2021-08-28T16:50:31.496425Z"
    },
    "papermill": {
     "duration": 0.232559,
     "end_time": "2021-09-01T21:26:46.154874",
     "exception": false,
     "start_time": "2021-09-01T21:26:45.922315",
     "status": "completed"
    },
    "tags": []
   },
   "outputs": [
    {
     "data": {
      "image/png": "[encoded data removed]",
      "text/plain": [
       "<Figure size 432x288 with 1 Axes>"
      ]
     },
     "metadata": {
      "needs_background": "light"
     },
     "output_type": "display_data"
    }
   ],
   "source": [
    "# Plot test data against predictive model\n",
    "plt.xlabel('x')\n",
    "plt.ylabel('y')\n",
    "plt.title('Relationship between x and y')\n",
    "plt.plot(X_test.iloc[:,1],y_test,'ro', mec= 'k');\n",
    "plt.plot(X_test.iloc[:,1],y_pred_test,'-b', mec= 'k');\n",
    "plt.legend(['Dataset', 'Linear Regression']);"
   ]
  },
  {
   "cell_type": "markdown",
   "id": "1a7c9dd1",
   "metadata": {
    "papermill": {
     "duration": 0.043475,
     "end_time": "2021-09-01T21:26:46.241431",
     "exception": false,
     "start_time": "2021-09-01T21:26:46.197956",
     "status": "completed"
    },
    "tags": []
   },
   "source": [
    "# Summary"
   ]
  },
  {
   "cell_type": "markdown",
   "id": "a176458f",
   "metadata": {
    "papermill": {
     "duration": 0.042241,
     "end_time": "2021-09-01T21:26:46.326438",
     "exception": false,
     "start_time": "2021-09-01T21:26:46.284197",
     "status": "completed"
    },
    "tags": []
   },
   "source": [
    "- The in-sample MSE (training) and out-sample MSE (test) are quite small in value and very close. \n",
    "- The out-sample is slightly higher than the in-sample, which may suggest a higher bias of the model as it is has trained/more suited to the training dataset.\n",
    "- The R2 score is extremely high (near 1) for both training and test set which means that the model nearly explains all the variation in the response variable around its mean."
   ]
  },
  {
   "cell_type": "markdown",
   "id": "d20e7f24",
   "metadata": {
    "papermill": {
     "duration": 0.042666,
     "end_time": "2021-09-01T21:26:46.411911",
     "exception": false,
     "start_time": "2021-09-01T21:26:46.369245",
     "status": "completed"
    },
    "tags": []
   },
   "source": [
    "<hr style=\"height:2px;border-width:0;color:gray;background-color:gray\">"
   ]
  },
  {
   "cell_type": "markdown",
   "id": "941e54e1",
   "metadata": {
    "papermill": {
     "duration": 0.042356,
     "end_time": "2021-09-01T21:26:46.497041",
     "exception": false,
     "start_time": "2021-09-01T21:26:46.454685",
     "status": "completed"
    },
    "tags": []
   },
   "source": [
    "# Extra"
   ]
  },
  {
   "cell_type": "markdown",
   "id": "500c8154",
   "metadata": {
    "papermill": {
     "duration": 0.042111,
     "end_time": "2021-09-01T21:26:46.582254",
     "exception": false,
     "start_time": "2021-09-01T21:26:46.540143",
     "status": "completed"
    },
    "tags": []
   },
   "source": [
    "To apply feature scaling on the feature dataset:"
   ]
  },
  {
   "cell_type": "code",
   "execution_count": 21,
   "id": "ebf25c9e",
   "metadata": {
    "execution": {
     "iopub.execute_input": "2021-09-01T21:26:46.672909Z",
     "iopub.status.busy": "2021-09-01T21:26:46.672232Z",
     "iopub.status.idle": "2021-09-01T21:26:46.674952Z",
     "shell.execute_reply": "2021-09-01T21:26:46.674451Z",
     "shell.execute_reply.started": "2021-08-28T16:50:31.688917Z"
    },
    "papermill": {
     "duration": 0.050069,
     "end_time": "2021-09-01T21:26:46.675087",
     "exception": false,
     "start_time": "2021-09-01T21:26:46.625018",
     "status": "completed"
    },
    "tags": []
   },
   "outputs": [],
   "source": [
    "def feature_scaling(X: pd.DataFrame) -> pd.DataFrame:\n",
    "    \n",
    "    \"\"\" Normalises the features in X (dataframe) and returns a normalized version of X where the mean value of each feature is 0 and the standard deviation is 1. \"\"\"\n",
    "    \n",
    "    # Return normalised data\n",
    "    return (X - np.mean(X, axis=0))/np.std(X, axis=0, ddof=0)"
   ]
  },
  {
   "cell_type": "markdown",
   "id": "845cc09c",
   "metadata": {
    "papermill": {
     "duration": 0.042073,
     "end_time": "2021-09-01T21:26:46.760047",
     "exception": false,
     "start_time": "2021-09-01T21:26:46.717974",
     "status": "completed"
    },
    "tags": []
   },
   "source": [
    "An alternative cost function implementation (that uses a for loop):"
   ]
  },
  {
   "cell_type": "code",
   "execution_count": 22,
   "id": "2ef5c242",
   "metadata": {
    "execution": {
     "iopub.execute_input": "2021-09-01T21:26:46.851706Z",
     "iopub.status.busy": "2021-09-01T21:26:46.851051Z",
     "iopub.status.idle": "2021-09-01T21:26:46.853666Z",
     "shell.execute_reply": "2021-09-01T21:26:46.853033Z",
     "shell.execute_reply.started": "2021-08-28T16:50:31.694734Z"
    },
    "papermill": {
     "duration": 0.051343,
     "end_time": "2021-09-01T21:26:46.853798",
     "exception": false,
     "start_time": "2021-09-01T21:26:46.802455",
     "status": "completed"
    },
    "tags": []
   },
   "outputs": [],
   "source": [
    "def LR_Cost_Alt(X: pd.DataFrame, y: pd.Series, theta: np.array) -> float:\n",
    "    \n",
    "    \"\"\" Return the Mean Squared Error of a linear regression model using loops. \"\"\"\n",
    "    \n",
    "    # Retrieve feature dimensions\n",
    "    m, n = X.shape \n",
    "    # Initialise error\n",
    "    residual = 0\n",
    "    # Calculate squared error \n",
    "    for i in range(m):\n",
    "        residual += (y[i] - np.sum(X[:,i] * theta))**2\n",
    "    # Calculate mean squared error\n",
    "    CF_LR = np.mean(residual)\n",
    "    # Return Cost Function\n",
    "    return CF_LR"
   ]
  },
  {
   "cell_type": "markdown",
   "id": "fb08737f",
   "metadata": {
    "papermill": {
     "duration": 0.041958,
     "end_time": "2021-09-01T21:26:46.938224",
     "exception": false,
     "start_time": "2021-09-01T21:26:46.896266",
     "status": "completed"
    },
    "tags": []
   },
   "source": [
    "To plot datasets that are 2-dimensional, where the first column is the $x$ variable and the second column is the $y$ variable:"
   ]
  },
  {
   "cell_type": "code",
   "execution_count": 23,
   "id": "c96fe3b1",
   "metadata": {
    "execution": {
     "iopub.execute_input": "2021-09-01T21:26:47.029721Z",
     "iopub.status.busy": "2021-09-01T21:26:47.029090Z",
     "iopub.status.idle": "2021-09-01T21:26:47.031624Z",
     "shell.execute_reply": "2021-09-01T21:26:47.032178Z",
     "shell.execute_reply.started": "2021-08-28T16:50:31.707557Z"
    },
    "papermill": {
     "duration": 0.051526,
     "end_time": "2021-09-01T21:26:47.032360",
     "exception": false,
     "start_time": "2021-09-01T21:26:46.980834",
     "status": "completed"
    },
    "tags": []
   },
   "outputs": [],
   "source": [
    "def plot_data(data: pd.DataFrame):\n",
    "    \n",
    "    \"\"\" Plot 2-D dataset. \"\"\"\n",
    "    \n",
    "    # Split data into X inputs and y outcomes (from dataframe)\n",
    "    X = data.iloc[:,0]\n",
    "    y = data.iloc[:,1]\n",
    "    plt.xlabel('$x$')\n",
    "    plt.ylabel('$y$')\n",
    "    plt.title('Investigating the relationship between ...')\n",
    "    plt.plot(X,y,'ro', mec= 'k')"
   ]
  },
  {
   "cell_type": "markdown",
   "id": "ba6047d0",
   "metadata": {
    "papermill": {
     "duration": 0.043868,
     "end_time": "2021-09-01T21:26:47.119193",
     "exception": false,
     "start_time": "2021-09-01T21:26:47.075325",
     "status": "completed"
    },
    "tags": []
   },
   "source": [
    "Some comments about the code implementations:\n",
    "\n",
    "1. Here we have created an entire python class for linear regression to make it similar to a machine learning pipeline format. If you would like to just use the functions by themselves, simply take them from the individual sections.\n",
    "2. We have only dealt with 1 feature in this dataset (simple linear regression) - a mult-linear regression may not yield the same accuracy. \n",
    "3. We have not actually used the cost function as a means to optimise the model - we have simply used the normal equations to obtain our estimates. The cost function is used as a metric as it is equivalent to the MSE. \n",
    "3. Two alternative methods to solve linear regression problems are: Gradient Descent (Batch) which uses the cost function as an objective function and Grid Search (Brute Force). Seperate notebooks will be designated to each of these methods and you will see that all these methods will provide the exact/near same solutions. "
   ]
  },
  {
   "cell_type": "markdown",
   "id": "c6c12606",
   "metadata": {
    "papermill": {
     "duration": 0.042766,
     "end_time": "2021-09-01T21:26:47.204946",
     "exception": false,
     "start_time": "2021-09-01T21:26:47.162180",
     "status": "completed"
    },
    "tags": []
   },
   "source": [
    "<hr style=\"height:2px;border-width:0;color:gray;background-color:gray\">"
   ]
  },
  {
   "cell_type": "markdown",
   "id": "5ea19fd4",
   "metadata": {
    "papermill": {
     "duration": 0.04245,
     "end_time": "2021-09-01T21:26:47.291542",
     "exception": false,
     "start_time": "2021-09-01T21:26:47.249092",
     "status": "completed"
    },
    "tags": []
   },
   "source": [
    "Thanks for reading this notebook. If there are any mistakes or things that need more clarity, feel free to respond in the comment section and I will be happy to reply. \n",
    "\n",
    "As always, please leave an upvote - it would also be helpful if you cite this documentation if you are going to use any of the code. 😊\n",
    "\n",
    "#CodeWithSid "
   ]
  }
 ],
 "metadata": {
  "kernelspec": {
   "display_name": "Python 3",
   "language": "python",
   "name": "python3"
  },
  "language_info": {
   "codemirror_mode": {
    "name": "ipython",
    "version": 3
   },
   "file_extension": ".py",
   "mimetype": "text/x-python",
   "name": "python",
   "nbconvert_exporter": "python",
   "pygments_lexer": "ipython3",
   "version": "3.7.10"
  },
  "papermill": {
   "default_parameters": {},
   "duration": 15.62748,
   "end_time": "2021-09-01T21:26:48.044689",
   "environment_variables": {},
   "exception": null,
   "input_path": "__notebook__.ipynb",
   "output_path": "__notebook__.ipynb",
   "parameters": {},
   "start_time": "2021-09-01T21:26:32.417209",
   "version": "2.3.3"
  }
 },
 "nbformat": 4,
 "nbformat_minor": 5
}
