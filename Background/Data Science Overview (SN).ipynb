{
 "cells": [
  {
   "cell_type": "markdown",
   "metadata": {},
   "source": [
    "# Data Science"
   ]
  },
  {
   "cell_type": "markdown",
   "metadata": {},
   "source": [
    "<table border=\"1\" cellpadding=\"3\" id=\"printTable\">\n",
    "    <tbody> \n",
    "    <tr>\n",
    "        <th>Author</th>\n",
    "        <th>Email</th>\n",
    "        <th>Website</th>\n",
    "    </tr>\n",
    "    <tr>\n",
    "        <td>Siddartha Nath</td>\n",
    "        <td>\n",
    "            <a href=\"mailto:sidnath01@hotmail.com\">sidnath01@hotmail.com\n",
    "            </a>\n",
    "        </td>\n",
    "        <td>PolyNath</td>\n",
    "    </tr>\n",
    "    </tbody>\n",
    "</table>"
   ]
  },
  {
   "cell_type": "markdown",
   "metadata": {},
   "source": [
    "## Background"
   ]
  },
  {
   "cell_type": "markdown",
   "metadata": {},
   "source": [
    "### What is Data Science?"
   ]
  },
  {
   "cell_type": "markdown",
   "metadata": {},
   "source": [
    "Data science is an inter-disciplinary field that uses scientific methods, processes, algorithms and systems to extract knowledge and insights from structured and unstructured data, and apply knowledge and actionable insights from data across a broad range of application domains. Data science is related to data mining, machine learning and big data.\n",
    "\n",
    "Data science is a \"concept to unify statistics, data analysis, informatics, and their related methods\" in order to \"understand and analyze actual phenomena\" with data. It uses techniques and theories drawn from many fields within the context of mathematics, statistics, computer science, information science, and domain knowledge. Turing award winner Jim Gray imagined data science as a \"fourth paradigm\" of science (empirical, theoretical, computational and now data-driven) and asserted that \"everything about science is changing because of the impact of information technology\" and the data deluge.\n",
    "<br>\n",
    "<br>\n",
    "<div class=\"alert alert-success\">\n",
    "  <strong>Reference: <a href=\"https://en.wikipedia.org/wiki/Data_science\">Data Science\n",
    "    </a></strong> \n",
    "</div>"
   ]
  },
  {
   "cell_type": "markdown",
   "metadata": {},
   "source": [
    "### What does Data Science look like?"
   ]
  },
  {
   "cell_type": "markdown",
   "metadata": {},
   "source": [
    "<img src=\"https://kainos-prod-assets.s3.amazonaws.com/uploads/2019/04/data_science.png\" width=\"500\">\n",
    "<div class=\"alert alert-success\">\n",
    "  <strong>Reference: <a href=\"https://kainos-prod-assets.s3.amazonaws.com/uploads/2019/04/data_science.png\">Overview\n",
    "    </a></strong> \n",
    "</div>"
   ]
  },
  {
   "cell_type": "markdown",
   "metadata": {},
   "source": [
    "### What applications does Data Science have?"
   ]
  },
  {
   "cell_type": "markdown",
   "metadata": {},
   "source": [
    "<img src=\"https://miro.medium.com/max/458/1*0rgG8tSv4mtxxctGNxCYwQ.png\" width=\"500\">\n",
    "<div class=\"alert alert-success\">\n",
    "  <strong>Reference: <a href=\"https://miro.medium.com/max/458/1*0rgG8tSv4mtxxctGNxCYwQ.png\">Applications\n",
    "    </a></strong> \n",
    "</div>"
   ]
  },
  {
   "cell_type": "markdown",
   "metadata": {},
   "source": [
    "### What are the other roles within Data Science and what process do they go through?"
   ]
  },
  {
   "cell_type": "markdown",
   "metadata": {},
   "source": [
    "<img src=\"https://miro.medium.com/max/4360/1*PzzcJA-cwXQ8hwlpM4DwbA@2x.jpeg\" width=\"500\">\n",
    "<div class=\"alert alert-success\">\n",
    "  <strong>Reference: <a href=\"https://miro.medium.com/max/4360/1*PzzcJA-cwXQ8hwlpM4DwbA@2x.jpeg\">Roles and Process\n",
    "    </a></strong> \n",
    "</div>"
   ]
  },
  {
   "cell_type": "markdown",
   "metadata": {},
   "source": [
    "# Machine Learning"
   ]
  },
  {
   "cell_type": "markdown",
   "metadata": {},
   "source": [
    "## Background"
   ]
  },
  {
   "cell_type": "markdown",
   "metadata": {},
   "source": [
    "### What is Machine Learning?"
   ]
  },
  {
   "cell_type": "markdown",
   "metadata": {},
   "source": [
    "Machine learning (ML) is the study of computer algorithms that improve automatically through experience and by the use of data. It is seen as a part of artificial intelligence. Machine learning algorithms build a model based on sample data, known as \"training data\", in order to make predictions or decisions without being explicitly programmed to do so. Machine learning algorithms are used in a wide variety of applications, such as email filtering and computer vision, where it is difficult or unfeasible to develop conventional algorithms to perform the needed tasks.\n",
    "\n",
    "Machine learning involves computers discovering how they can perform tasks without being explicitly programmed to do so. It involves computers learning from data provided so that they carry out certain tasks. \n",
    "<div class=\"alert alert-success\">\n",
    "  <strong>Reference: <a href=\"https://en.wikipedia.org/wiki/Machine_learning\">Machine Learning\n",
    "    </a></strong> \n",
    "</div>"
   ]
  },
  {
   "cell_type": "markdown",
   "metadata": {},
   "source": [
    "### What are the types of Machine Learning?"
   ]
  },
  {
   "cell_type": "markdown",
   "metadata": {},
   "source": [
    "<table border=\"1\" cellpadding=\"3\" id=\"printTable\">\n",
    "    <tbody> \n",
    "    <tr>\n",
    "        <th>Criteria</th>\n",
    "        <td>Supervised Learning</td>\n",
    "        <td>Unsupervised Learning</td>\n",
    "        <td>Reinforcement Learning</td>\n",
    "    </tr>\n",
    "    <tr>\n",
    "        <th>Definition</th>\n",
    "        <td>The machine learns by using labeled data, with a known outcome, and tries to predict this outcome variable</td>\n",
    "        <td>The machine is trained on unlabeled data and there is no known outcome variable we want to predict; we want to understand instead how the data is organised/created and find patterns</td>\n",
    "        <td>The machine interacts with a dynamic environment in which it must perform a certain goal; as it navigates through the problem, the machine is provided 'feedback' that's analogous to rewards, which it tries to maximise.</td>\n",
    "    </tr>\n",
    "    <tr>\n",
    "        <th>Type of problems</th>\n",
    "        <td>Regression & Classification</td>\n",
    "        <td>Clustering & Networks</td>\n",
    "        <td>Learning Tasks</td>\n",
    "    </tr>\n",
    "    <tr>\n",
    "        <th>Example of problems</th>\n",
    "        <td>Predicting house prices (Continuous), predicting entrance to university (Discrete)</td>\n",
    "        <td>Finding groups in friendship networks</td>\n",
    "        <td>Playing Chess </td>\n",
    "    </tr>\n",
    "    <tr>\n",
    "        <th>Type of data</th>\n",
    "        <td>Labelled</td>\n",
    "        <td>Unlabelled</td>\n",
    "        <td>Unlabelled</td>\n",
    "    </tr>\n",
    "    </tbody>\n",
    "</table>"
   ]
  },
  {
   "cell_type": "markdown",
   "metadata": {},
   "source": [
    "### What are the Machine Learning techniques?"
   ]
  },
  {
   "cell_type": "markdown",
   "metadata": {},
   "source": [
    "<img src=\"https://idapgroup.com/blog/blog/wp-content/uploads/2019/11/34534-1024x427.png\" width=\"1000\">\n",
    "<div class=\"alert alert-success\">\n",
    "  <strong>Reference: <a href=\"https://idapgroup.com/blog/blog/wp-content/uploads/2019/11/34534-1024x427.png\">Machine Learning techniques\n",
    "    </a></strong> \n",
    "</div>"
   ]
  },
  {
   "cell_type": "markdown",
   "metadata": {},
   "source": [
    "&copy; *PolyNath 2021.*"
   ]
  }
 ],
 "metadata": {
  "kernelspec": {
   "display_name": "Python 3",
   "language": "python",
   "name": "python3"
  },
  "language_info": {
   "codemirror_mode": {
    "name": "ipython",
    "version": 3
   },
   "file_extension": ".py",
   "mimetype": "text/x-python",
   "name": "python",
   "nbconvert_exporter": "python",
   "pygments_lexer": "ipython3",
   "version": "3.8.5"
  }
 },
 "nbformat": 4,
 "nbformat_minor": 4
}
